{
 "cells": [
  {
   "cell_type": "code",
   "execution_count": 1,
   "metadata": {},
   "outputs": [],
   "source": [
    "import pandas as pd"
   ]
  },
  {
   "cell_type": "code",
   "execution_count": 2,
   "metadata": {},
   "outputs": [],
   "source": [
    "t1_ENOE = pd.read_csv(\"2014_finished.csv\")\n"
   ]
  },
  {
   "cell_type": "markdown",
   "metadata": {},
   "source": [
    "# Datos iniciales"
   ]
  },
  {
   "cell_type": "code",
   "execution_count": 3,
   "metadata": {},
   "outputs": [
    {
     "data": {
      "text/plain": [
       "86    186517\n",
       "81     95222\n",
       "83     67692\n",
       "84     62177\n",
       "85     52176\n",
       "1      51279\n",
       "5      35373\n",
       "2      33329\n",
       "3      33075\n",
       "82     32997\n",
       "4      31726\n",
       "16     24481\n",
       "39     23375\n",
       "14     23096\n",
       "31     22906\n",
       "7      22587\n",
       "15     22503\n",
       "19     22408\n",
       "18     22253\n",
       "26     22109\n",
       "24     22005\n",
       "32     21986\n",
       "27     21734\n",
       "8      21667\n",
       "17     21659\n",
       "13     21234\n",
       "36     21092\n",
       "29     21010\n",
       "25     20712\n",
       "43     20451\n",
       "9      20398\n",
       "33     20318\n",
       "21     19722\n",
       "10     19101\n",
       "28     19015\n",
       "12     18647\n",
       "41     18395\n",
       "40     16990\n",
       "Name: cd_a, dtype: int64"
      ]
     },
     "execution_count": 3,
     "metadata": {},
     "output_type": "execute_result"
    }
   ],
   "source": [
    "t1_ENOE['cd_a'].value_counts() #ciudad\n",
    "#01 México\n",
    "#02 Guadalajara\n",
    "#03 Monterrey\n",
    "#04 Puebla\n",
    "#05 León\n",
    "#06 Torreón (a partir de 2017)\n",
    "#07 San Luis Potosí\n",
    "#08 Mérida\n",
    "#09 Chihuahua\n",
    "#10 Tampico\n",
    "#12 Veracruz\n",
    "#13 Acapulco\n",
    "#14 Aguascalientes\n",
    "#15 Morelia\n",
    "#16 Toluca\n",
    "#17 Saltillo\n",
    "#18 Villahermosa\n",
    "#19 Tuxtla Gutiérrez\n",
    "#21 Tijuana\n",
    "#24 Culiacán\n",
    "#25 Hermosillo\n",
    "#26 Durango\n",
    "#27 Tepic\n",
    "#28 Campeche\n",
    "#29 Cuernavaca\n",
    "#31 Oaxaca\n",
    "#32 Zacatecas\n",
    "#33 Colima\n",
    "#36 Querétaro\n",
    "#39 Tlaxcala\n",
    "#40 La Paz\n",
    "#41 Cancún\n",
    "#43 Pachuca\n",
    "#81 Complemento urbano-rural\n",
    "#82 Complemento urbano-rural\n",
    "#83 Complemento urbano-rural\n",
    "#84 Complemento urbano-rural\n",
    "#85 Complemento urbano-rural\n",
    "#86 Complemento urbano-rural\n",
    "\n",
    "\n"
   ]
  },
  {
   "cell_type": "code",
   "execution_count": 4,
   "metadata": {
    "scrolled": true
   },
   "outputs": [
    {
     "data": {
      "text/plain": [
       "60004    7048\n",
       "60005    6801\n",
       "60008    6788\n",
       "60001    6774\n",
       "60011    6707\n",
       "60010    6706\n",
       "60007    6651\n",
       "60002    6630\n",
       "60006    6573\n",
       "60009    6562\n",
       "60003    6474\n",
       "60013    6436\n",
       "60012    6303\n",
       "60015    6288\n",
       "60014    6173\n",
       "60016    5187\n",
       "60017    5077\n",
       "50007    5070\n",
       "60018    4912\n",
       "60019    4777\n",
       "60020    4729\n",
       "50008    4662\n",
       "50010    4626\n",
       "50029    4619\n",
       "50016    4618\n",
       "50014    4598\n",
       "50009    4463\n",
       "50025    4401\n",
       "50023    4400\n",
       "50013    4383\n",
       "         ... \n",
       "40610      47\n",
       "50265      46\n",
       "40617      45\n",
       "40608      45\n",
       "40628      45\n",
       "41229      45\n",
       "40613      44\n",
       "40631      44\n",
       "40616      44\n",
       "50269      44\n",
       "40604      44\n",
       "40639      43\n",
       "50257      42\n",
       "40603      42\n",
       "40607      42\n",
       "40630      41\n",
       "50267      41\n",
       "50259      41\n",
       "50258      38\n",
       "40618      38\n",
       "40632      37\n",
       "40619      36\n",
       "40609      36\n",
       "50268      35\n",
       "40637      34\n",
       "40627      26\n",
       "40636      25\n",
       "50260      24\n",
       "50264      22\n",
       "40629      12\n",
       "Name: con, Length: 1381, dtype: int64"
      ]
     },
     "execution_count": 4,
     "metadata": {},
     "output_type": "execute_result"
    }
   ],
   "source": [
    "t1_ENOE['con'].value_counts()\n",
    "#control \n",
    "#Primer dígito - Ámbito del número de control \n",
    "# 0 - El control pertenece a la muestra anterior\n",
    "# 4 - Ciudades autorrepresentadas\n",
    "# 5 - Complemento urbano\n",
    "# 6 - Rural\n",
    "#Los últimos cuatro Consecutivo por entidad dígitos y ámbito 0001-9999"
   ]
  },
  {
   "cell_type": "code",
   "execution_count": 5,
   "metadata": {
    "scrolled": true
   },
   "outputs": [
    {
     "data": {
      "text/plain": [
       "103    45686\n",
       "503    45663\n",
       "403    45532\n",
       "501    45470\n",
       "402    45208\n",
       "401    45109\n",
       "101    44735\n",
       "201    44587\n",
       "102    44528\n",
       "203    44498\n",
       "202    44461\n",
       "502    44289\n",
       "301    44229\n",
       "302    44159\n",
       "303    43353\n",
       "512    12380\n",
       "110    12294\n",
       "507    12172\n",
       "408    12106\n",
       "111    11996\n",
       "211    11993\n",
       "206    11979\n",
       "404    11972\n",
       "505    11939\n",
       "509    11919\n",
       "304    11896\n",
       "506    11890\n",
       "106    11836\n",
       "213    11793\n",
       "105    11748\n",
       "       ...  \n",
       "107    11658\n",
       "109    11644\n",
       "504    11644\n",
       "104    11643\n",
       "409    11628\n",
       "407    11625\n",
       "411    11624\n",
       "112    11616\n",
       "413    11615\n",
       "210    11609\n",
       "209    11605\n",
       "307    11568\n",
       "212    11543\n",
       "410    11535\n",
       "412    11527\n",
       "312    11515\n",
       "309    11440\n",
       "205    11439\n",
       "308    11403\n",
       "204    11381\n",
       "511    11373\n",
       "108    11350\n",
       "405    11305\n",
       "305    11284\n",
       "306    11237\n",
       "313    11230\n",
       "508    11183\n",
       "311    11155\n",
       "513    11053\n",
       "113    10887\n",
       "Name: d_sem, Length: 65, dtype: int64"
      ]
     },
     "execution_count": 5,
     "metadata": {},
     "output_type": "execute_result"
    }
   ],
   "source": [
    "t1_ENOE['d_sem'].value_counts() # Distribución semanal Primer dígito 1-5  Segundo y tercer dígito 01-13"
   ]
  },
  {
   "cell_type": "code",
   "execution_count": 6,
   "metadata": {
    "scrolled": true
   },
   "outputs": [
    {
     "data": {
      "text/plain": [
       "13    31028\n",
       "18    30907\n",
       "12    30659\n",
       "14    30607\n",
       "15    29679\n",
       "19    29610\n",
       "16    29482\n",
       "17    29271\n",
       "20    29159\n",
       "21    28636\n",
       "22    28375\n",
       "23    27791\n",
       "24    26564\n",
       "25    25200\n",
       "40    24682\n",
       "30    24077\n",
       "26    24032\n",
       "28    23604\n",
       "27    23540\n",
       "38    23414\n",
       "39    23202\n",
       "33    22935\n",
       "34    22700\n",
       "36    22650\n",
       "37    22593\n",
       "41    22580\n",
       "29    22370\n",
       "31    22344\n",
       "43    22304\n",
       "35    22217\n",
       "      ...  \n",
       "70     6860\n",
       "69     6613\n",
       "71     6173\n",
       "73     5993\n",
       "72     5387\n",
       "74     5221\n",
       "75     5000\n",
       "76     4471\n",
       "78     3973\n",
       "77     3886\n",
       "79     3491\n",
       "80     3459\n",
       "81     2850\n",
       "84     2540\n",
       "83     2421\n",
       "82     2216\n",
       "85     2034\n",
       "86     1540\n",
       "87     1285\n",
       "88     1140\n",
       "89     1064\n",
       "90      936\n",
       "91      707\n",
       "97      571\n",
       "98      503\n",
       "93      477\n",
       "92      467\n",
       "94      416\n",
       "95      277\n",
       "96      219\n",
       "Name: eda, Length: 87, dtype: int64"
      ]
     },
     "execution_count": 6,
     "metadata": {},
     "output_type": "execute_result"
    }
   ],
   "source": [
    "t1_ENOE['eda'].value_counts() #edad"
   ]
  },
  {
   "cell_type": "code",
   "execution_count": 7,
   "metadata": {},
   "outputs": [
    {
     "data": {
      "text/plain": [
       "15    57740\n",
       "11    54048\n",
       "21    48314\n",
       "14    46738\n",
       "20    44730\n",
       "7     44505\n",
       "30    43641\n",
       "19    43498\n",
       "12    40607\n",
       "24    39633\n",
       "1     39513\n",
       "32    39423\n",
       "16    39139\n",
       "27    39131\n",
       "2     38941\n",
       "5     38841\n",
       "25    37219\n",
       "18    36904\n",
       "31    36804\n",
       "29    36628\n",
       "22    36301\n",
       "4     35827\n",
       "8     35788\n",
       "10    35756\n",
       "28    35156\n",
       "17    35139\n",
       "26    34678\n",
       "6     33945\n",
       "13    33934\n",
       "9     32769\n",
       "23    31287\n",
       "3     26840\n",
       "Name: ent, dtype: int64"
      ]
     },
     "execution_count": 7,
     "metadata": {},
     "output_type": "execute_result"
    }
   ],
   "source": [
    "t1_ENOE['ent'].value_counts() \n",
    "#Entidad \n",
    "#01Aguascalientes \n",
    "#02Baja California \n",
    "#03Baja California Sur\n",
    "#04Campeche\n",
    "#05Coahuila de Zaragoza \n",
    "#06Colima \n",
    "#07Chiapas \n",
    "#08Chihuahua \n",
    "#09Distrito Federal \n",
    "#10Durango \n",
    "#11Guanajuato \n",
    "#12Guerrero \n",
    "#13Hidalgo \n",
    "#14Jalisco\n",
    "#15México \n",
    "#16Michoacán de Ocampo \n",
    "#17Morelos \n",
    "#18Nayarit \n",
    "#19Nuevo León \n",
    "#20Oaxaca \n",
    "#21Puebla \n",
    "#22Querétaro \n",
    "#23Quintana Roo \n",
    "#24San Luis Potosí\n",
    "#25Sinaloa \n",
    "#26Sonora \n",
    "#27Tabasco \n",
    "#28Tamaulipas \n",
    "#29Tlaxcala \n",
    "#30Veracruz de Ignacio de la Llave \n",
    "#31Yucatán \n",
    "#32Zacatecas\n"
   ]
  },
  {
   "cell_type": "code",
   "execution_count": 8,
   "metadata": {},
   "outputs": [
    {
     "data": {
      "text/plain": [
       "109      7899\n",
       "124      7413\n",
       "117      7406\n",
       "113      7395\n",
       "120      7383\n",
       "112      7107\n",
       "115      7084\n",
       "116      6955\n",
       "110      6910\n",
       "108      6909\n",
       "106      6876\n",
       "127      6856\n",
       "111      6731\n",
       "119      6722\n",
       "100      6721\n",
       "101      6713\n",
       "114      6693\n",
       "105      6603\n",
       "107      6258\n",
       "118      6196\n",
       "40       6181\n",
       "103      6138\n",
       "104      6130\n",
       "102      6094\n",
       "123      6032\n",
       "99       6025\n",
       "88       5939\n",
       "130      5939\n",
       "97       5912\n",
       "95       5883\n",
       "         ... \n",
       "4554        2\n",
       "4689        2\n",
       "4567        2\n",
       "3695        2\n",
       "2668        2\n",
       "1993        2\n",
       "4807        2\n",
       "5419        2\n",
       "3201        2\n",
       "9189        2\n",
       "4668        2\n",
       "4909        2\n",
       "2271        2\n",
       "3554        2\n",
       "3046        2\n",
       "3247        2\n",
       "10321       2\n",
       "4354        2\n",
       "2088        2\n",
       "3718        2\n",
       "4287        2\n",
       "4670        2\n",
       "10516       1\n",
       "2426        1\n",
       "4166        1\n",
       "2716        1\n",
       "1835        1\n",
       "5046        1\n",
       "1500        1\n",
       "2564        1\n",
       "Name: fac, Length: 2293, dtype: int64"
      ]
     },
     "execution_count": 8,
     "metadata": {},
     "output_type": "execute_result"
    }
   ],
   "source": [
    "t1_ENOE['fac'].value_counts() #Factor de expansión valor  000001-999998 "
   ]
  },
  {
   "cell_type": "code",
   "execution_count": 9,
   "metadata": {},
   "outputs": [
    {
     "data": {
      "text/plain": [
       "0    1217836\n",
       "1      31670\n",
       "2       3548\n",
       "3        332\n",
       "4         31\n",
       "Name: h_mud, dtype: int64"
      ]
     },
     "execution_count": 9,
     "metadata": {},
     "output_type": "execute_result"
    }
   ],
   "source": [
    "t1_ENOE['h_mud'].value_counts() #Número de veces que el hogar se ha mudado"
   ]
  },
  {
   "cell_type": "code",
   "execution_count": 10,
   "metadata": {},
   "outputs": [
    {
     "data": {
      "text/plain": [
       "2    253875\n",
       "1    253809\n",
       "3    252392\n",
       "4    247975\n",
       "5    245366\n",
       "Name: n_ent, dtype: int64"
      ]
     },
     "execution_count": 10,
     "metadata": {},
     "output_type": "execute_result"
    }
   ],
   "source": [
    "t1_ENOE['n_ent'].value_counts() #Número de entrevista o visita realizada"
   ]
  },
  {
   "cell_type": "code",
   "execution_count": 11,
   "metadata": {},
   "outputs": [
    {
     "data": {
      "text/plain": [
       "1    1246909\n",
       "2       5437\n",
       "3        841\n",
       "4        185\n",
       "5         43\n",
       "6          2\n",
       "Name: n_hog, dtype: int64"
      ]
     },
     "execution_count": 11,
     "metadata": {},
     "output_type": "execute_result"
    }
   ],
   "source": [
    "t1_ENOE['n_hog'].value_counts() # 1-Número de hogar principal dentro de la vivienda 2-9 Número de hogar adicional dentro de la vivienda"
   ]
  },
  {
   "cell_type": "code",
   "execution_count": 12,
   "metadata": {},
   "outputs": [
    {
     "data": {
      "text/plain": [
       "2     566287\n",
       "1     443997\n",
       "3     121102\n",
       "4      62939\n",
       "5      29626\n",
       "6      14247\n",
       "7       6636\n",
       "8       3688\n",
       "9       1615\n",
       "10      1100\n",
       "11       519\n",
       "97       450\n",
       "99       418\n",
       "12       342\n",
       "13       228\n",
       "14       111\n",
       "15        71\n",
       "16        22\n",
       "21        11\n",
       "17         7\n",
       "18         1\n",
       "Name: n_inf, dtype: int64"
      ]
     },
     "execution_count": 12,
     "metadata": {},
     "output_type": "execute_result"
    }
   ],
   "source": [
    "t1_ENOE['n_inf'].value_counts() #Número de renglón del informante\n"
   ]
  },
  {
   "cell_type": "code",
   "execution_count": 13,
   "metadata": {},
   "outputs": [
    {
     "data": {
      "text/plain": [
       "7      9790\n",
       "47     9683\n",
       "25     9609\n",
       "69     9569\n",
       "13     9565\n",
       "46     9545\n",
       "9      9523\n",
       "32     9512\n",
       "4      9482\n",
       "52     9481\n",
       "28     9438\n",
       "2      9410\n",
       "54     9408\n",
       "62     9392\n",
       "5      9389\n",
       "34     9361\n",
       "24     9349\n",
       "35     9348\n",
       "3      9326\n",
       "1      9305\n",
       "29     9285\n",
       "64     9283\n",
       "26     9272\n",
       "11     9263\n",
       "14     9255\n",
       "31     9251\n",
       "57     9231\n",
       "38     9230\n",
       "44     9221\n",
       "40     9186\n",
       "       ... \n",
       "727       4\n",
       "741       4\n",
       "435       4\n",
       "439       4\n",
       "446       4\n",
       "618       4\n",
       "517       3\n",
       "397       3\n",
       "778       3\n",
       "791       3\n",
       "412       3\n",
       "513       3\n",
       "590       2\n",
       "487       2\n",
       "496       2\n",
       "499       2\n",
       "565       2\n",
       "458       2\n",
       "561       2\n",
       "506       2\n",
       "540       2\n",
       "510       2\n",
       "529       2\n",
       "523       2\n",
       "413       1\n",
       "627       1\n",
       "433       1\n",
       "492       1\n",
       "480       1\n",
       "452       1\n",
       "Name: n_pro_viv, Length: 481, dtype: int64"
      ]
     },
     "execution_count": 13,
     "metadata": {},
     "output_type": "execute_result"
    }
   ],
   "source": [
    "t1_ENOE['n_pro_viv'].value_counts() #Número progresivo de la vivienda en el listado\n"
   ]
  },
  {
   "cell_type": "code",
   "execution_count": 14,
   "metadata": {},
   "outputs": [
    {
     "data": {
      "text/plain": [
       "1     421008\n",
       "2     374161\n",
       "3     218154\n",
       "4     128949\n",
       "5      59632\n",
       "6      26686\n",
       "7      12192\n",
       "8       5957\n",
       "9       3095\n",
       "10      1653\n",
       "11       802\n",
       "12       454\n",
       "13       281\n",
       "14       161\n",
       "15       108\n",
       "16        49\n",
       "17        32\n",
       "18        14\n",
       "19        14\n",
       "20         7\n",
       "21         5\n",
       "30         2\n",
       "22         1\n",
       "Name: n_ren, dtype: int64"
      ]
     },
     "execution_count": 14,
     "metadata": {},
     "output_type": "execute_result"
    }
   ],
   "source": [
    "t1_ENOE['n_ren'].value_counts() #Número de renglón del integrante del hogar"
   ]
  },
  {
   "cell_type": "markdown",
   "metadata": {},
   "source": [
    "# Pregunta 10: En los últimos tres meses ¿… a recibido ayuda del gobierno, respuestas en p10_1 a p10_4 y p10_9 Pregunta de opción múltiple"
   ]
  },
  {
   "cell_type": "code",
   "execution_count": 15,
   "metadata": {},
   "outputs": [
    {
     "data": {
      "text/plain": [
       "9    1253120\n",
       "1        297\n",
       "Name: p10_1, dtype: int64"
      ]
     },
     "execution_count": 15,
     "metadata": {},
     "output_type": "execute_result"
    }
   ],
   "source": [
    "t1_ENOE['p10_1'].value_counts() #beca de capacitación o ayuda económica para encontrar trabajo? 1-si 9-no aplica\n"
   ]
  },
  {
   "cell_type": "code",
   "execution_count": 16,
   "metadata": {},
   "outputs": [
    {
     "data": {
      "text/plain": [
       "9    1252531\n",
       "2        886\n",
       "Name: p10_2, dtype: int64"
      ]
     },
     "execution_count": 16,
     "metadata": {},
     "output_type": "execute_result"
    }
   ],
   "source": [
    "t1_ENOE['p10_2'].value_counts() #Apoyo para realizar una actividad por su cuenta Procampo, microcréditos? 2-si 9-no aplica"
   ]
  },
  {
   "cell_type": "code",
   "execution_count": 17,
   "metadata": {},
   "outputs": [
    {
     "data": {
      "text/plain": [
       "9    1217296\n",
       "3      36121\n",
       "Name: p10_3, dtype: int64"
      ]
     },
     "execution_count": 17,
     "metadata": {},
     "output_type": "execute_result"
    }
   ],
   "source": [
    "t1_ENOE['p10_3'].value_counts() #Ayuda de otro programa del gobierno beca de estudio, despensa? 3-si 9-no aplica\n"
   ]
  },
  {
   "cell_type": "code",
   "execution_count": 18,
   "metadata": {
    "scrolled": true
   },
   "outputs": [
    {
     "data": {
      "text/plain": [
       "9    979010\n",
       "4    274407\n",
       "Name: p10_4, dtype: int64"
      ]
     },
     "execution_count": 18,
     "metadata": {},
     "output_type": "execute_result"
    }
   ],
   "source": [
    "t1_ENOE['p10_4'].value_counts() #No ha recibido nada del gobierno 4-si 9-no aplica"
   ]
  },
  {
   "cell_type": "code",
   "execution_count": 19,
   "metadata": {},
   "outputs": [
    {
     "data": {
      "text/plain": [
       "9    1253417\n",
       "Name: p10_9, dtype: int64"
      ]
     },
     "execution_count": 19,
     "metadata": {},
     "output_type": "execute_result"
    }
   ],
   "source": [
    "t1_ENOE['p10_9'].value_counts() #No sabe 4-si 9-no aplica"
   ]
  },
  {
   "cell_type": "markdown",
   "metadata": {},
   "source": [
    "# Pregunta 10a: En los últimos tres meses … a recibido (o le enviaron) apoyo económico de alguien que vive y/o trabaja, respuestas en p10a1 a p10a4 y p10a9 Pregunta de opción múltiple\n"
   ]
  },
  {
   "cell_type": "code",
   "execution_count": 20,
   "metadata": {},
   "outputs": [
    {
     "data": {
      "text/plain": [
       "9    1250250\n",
       "1       3167\n",
       "Name: p10a1, dtype: int64"
      ]
     },
     "execution_count": 20,
     "metadata": {},
     "output_type": "execute_result"
    }
   ],
   "source": [
    "t1_ENOE['p10a1'].value_counts() #en el extranjero? 1-si 9-no aplica\n"
   ]
  },
  {
   "cell_type": "code",
   "execution_count": 21,
   "metadata": {},
   "outputs": [
    {
     "data": {
      "text/plain": [
       "9    1250717\n",
       "2       2700\n",
       "Name: p10a2, dtype: int64"
      ]
     },
     "execution_count": 21,
     "metadata": {},
     "output_type": "execute_result"
    }
   ],
   "source": [
    "t1_ENOE['p10a2'].value_counts() #en otro estado del país? 2-si 9-no aplica\n"
   ]
  },
  {
   "cell_type": "code",
   "execution_count": 22,
   "metadata": {},
   "outputs": [
    {
     "data": {
      "text/plain": [
       "9    1241659\n",
       "3      11758\n",
       "Name: p10a3, dtype: int64"
      ]
     },
     "execution_count": 22,
     "metadata": {},
     "output_type": "execute_result"
    }
   ],
   "source": [
    "t1_ENOE['p10a3'].value_counts() #en este mismo estado? 3-si 9-no aplica"
   ]
  },
  {
   "cell_type": "code",
   "execution_count": 23,
   "metadata": {},
   "outputs": [
    {
     "data": {
      "text/plain": [
       "9    958668\n",
       "4    294749\n",
       "Name: p10a4, dtype: int64"
      ]
     },
     "execution_count": 23,
     "metadata": {},
     "output_type": "execute_result"
    }
   ],
   "source": [
    "t1_ENOE['p10a4'].value_counts() #No ha recibido nada 4-si 9-no aplica"
   ]
  },
  {
   "cell_type": "code",
   "execution_count": 24,
   "metadata": {},
   "outputs": [
    {
     "data": {
      "text/plain": [
       "9    1253417\n",
       "Name: p10a9, dtype: int64"
      ]
     },
     "execution_count": 24,
     "metadata": {},
     "output_type": "execute_result"
    }
   ],
   "source": [
    "t1_ENOE['p10a9'].value_counts() #No sabe 9-si 9-no aplica"
   ]
  },
  {
   "cell_type": "markdown",
   "metadata": {},
   "source": [
    "# Pregunta 10b: #¿... cuenta con el seguro popular de salud?"
   ]
  },
  {
   "cell_type": "code",
   "execution_count": 25,
   "metadata": {},
   "outputs": [
    {
     "data": {
      "text/plain": [
       "9    942076\n",
       "2    221946\n",
       "1     89395\n",
       "Name: p10b, dtype: int64"
      ]
     },
     "execution_count": 25,
     "metadata": {},
     "output_type": "execute_result"
    }
   ],
   "source": [
    "t1_ENOE['p10b'].value_counts() # 1-si 2-no 9-no sabe / no aplica"
   ]
  },
  {
   "cell_type": "markdown",
   "metadata": {},
   "source": [
    "# Pregunta 11: Durante la semana pasada ¿cuánto tiempo dedicó … a Pregunta de opción múltiple, respuestas en P11_1 a P11_8"
   ]
  },
  {
   "cell_type": "code",
   "execution_count": 26,
   "metadata": {},
   "outputs": [
    {
     "data": {
      "text/plain": [
       "9    1199448\n",
       "1      53969\n",
       "Name: p11_1, dtype: int64"
      ]
     },
     "execution_count": 26,
     "metadata": {},
     "output_type": "execute_result"
    }
   ],
   "source": [
    "t1_ENOE['p11_1'].value_counts() #Estudiar o tomar cursos de capacitación incluye el tiempo dedicado a realizar trabajos escolares? \n",
    "#1-si 9-no aplica"
   ]
  },
  {
   "cell_type": "code",
   "execution_count": 27,
   "metadata": {},
   "outputs": [
    {
     "data": {
      "text/plain": [
       "9     1199555\n",
       "40      10435\n",
       "35       7579\n",
       "30       5134\n",
       "45       4244\n",
       "50       2767\n",
       "38       2180\n",
       "36       1948\n",
       "42       1908\n",
       "32       1567\n",
       "20       1113\n",
       "25       1103\n",
       "28        957\n",
       "10        923\n",
       "60        675\n",
       "37        630\n",
       "34        626\n",
       "39        591\n",
       "48        568\n",
       "15        525\n",
       "5         509\n",
       "6         505\n",
       "46        419\n",
       "8         415\n",
       "4         356\n",
       "2         349\n",
       "3         346\n",
       "55        327\n",
       "33        315\n",
       "26        307\n",
       "       ...   \n",
       "23         33\n",
       "19         33\n",
       "51         29\n",
       "17         28\n",
       "53         25\n",
       "13         25\n",
       "11         25\n",
       "62         14\n",
       "80         13\n",
       "75         12\n",
       "68         11\n",
       "0          10\n",
       "57         10\n",
       "64         10\n",
       "72          9\n",
       "63          9\n",
       "59          9\n",
       "90          8\n",
       "99          7\n",
       "66          7\n",
       "84          5\n",
       "97          5\n",
       "74          3\n",
       "67          2\n",
       "76          2\n",
       "85          2\n",
       "61          2\n",
       "71          1\n",
       "77          1\n",
       "81          1\n",
       "Name: p11_h1, Length: 84, dtype: int64"
      ]
     },
     "execution_count": 27,
     "metadata": {},
     "output_type": "execute_result"
    }
   ],
   "source": [
    "t1_ENOE['p11_h1'].value_counts() \n",
    "#00-97 Número de horas dedicadas a estudiar \n",
    "#98 Realizó la actividad pero no sabe cuanto tiempo \n",
    "#9 No sabe si realizó la actividad "
   ]
  },
  {
   "cell_type": "code",
   "execution_count": 28,
   "metadata": {},
   "outputs": [
    {
     "data": {
      "text/plain": [
       "9     1199448\n",
       "0       53180\n",
       "30        620\n",
       "7          38\n",
       "3          31\n",
       "10         20\n",
       "50         17\n",
       "40         16\n",
       "20         15\n",
       "15         10\n",
       "45          7\n",
       "2           6\n",
       "21          2\n",
       "6           2\n",
       "22          1\n",
       "25          1\n",
       "33          1\n",
       "4           1\n",
       "53          1\n",
       "Name: p11_m1, dtype: int64"
      ]
     },
     "execution_count": 28,
     "metadata": {},
     "output_type": "execute_result"
    }
   ],
   "source": [
    "t1_ENOE['p11_m1'].value_counts() \n",
    "#00-59 Número de minutos dedicados a estudiar\n",
    "#9 No aplica"
   ]
  },
  {
   "cell_type": "code",
   "execution_count": 29,
   "metadata": {},
   "outputs": [
    {
     "data": {
      "text/plain": [
       "9    1174565\n",
       "2      78852\n",
       "Name: p11_2, dtype: int64"
      ]
     },
     "execution_count": 29,
     "metadata": {},
     "output_type": "execute_result"
    }
   ],
   "source": [
    "t1_ENOE['p11_2'].value_counts() #cuidar o atender sin pago de manera exclusiva a niños, ancianos, enfermos o discapacitados? \n",
    "#2-si 9-no aplica"
   ]
  },
  {
   "cell_type": "code",
   "execution_count": 30,
   "metadata": {},
   "outputs": [
    {
     "data": {
      "text/plain": [
       "9     1175480\n",
       "14       8142\n",
       "10       7310\n",
       "7        6622\n",
       "21       6375\n",
       "28       4277\n",
       "2        3591\n",
       "20       3543\n",
       "5        3526\n",
       "3        2891\n",
       "35       2867\n",
       "6        2727\n",
       "4        2329\n",
       "12       2315\n",
       "15       2240\n",
       "30       2086\n",
       "8        1749\n",
       "18       1730\n",
       "1        1386\n",
       "42       1368\n",
       "25       1299\n",
       "40       1152\n",
       "16       1012\n",
       "24        749\n",
       "56        707\n",
       "98        685\n",
       "36        443\n",
       "26        411\n",
       "32        363\n",
       "49        318\n",
       "       ...   \n",
       "37         27\n",
       "52         21\n",
       "55         19\n",
       "43         14\n",
       "99         14\n",
       "47         12\n",
       "80         12\n",
       "58         12\n",
       "44         10\n",
       "54          9\n",
       "51          7\n",
       "66          5\n",
       "62          4\n",
       "74          4\n",
       "77          3\n",
       "65          3\n",
       "59          2\n",
       "53          2\n",
       "71          2\n",
       "64          2\n",
       "68          1\n",
       "76          1\n",
       "57          1\n",
       "82          1\n",
       "86          1\n",
       "87          1\n",
       "91          1\n",
       "95          1\n",
       "97          1\n",
       "69          1\n",
       "Name: p11_h2, Length: 84, dtype: int64"
      ]
     },
     "execution_count": 30,
     "metadata": {},
     "output_type": "execute_result"
    }
   ],
   "source": [
    "t1_ENOE['p11_h2'].value_counts() \n",
    "#00-97 Número de horas dedicadas a cuidar\n",
    "#98 Realizó la actividad pero no sabe cuanto tiempo\n",
    "#9 No sabe si realizó la actividad "
   ]
  },
  {
   "cell_type": "code",
   "execution_count": 31,
   "metadata": {},
   "outputs": [
    {
     "data": {
      "text/plain": [
       "9     1174566\n",
       "0       77723\n",
       "30        934\n",
       "3         102\n",
       "20         16\n",
       "7          14\n",
       "10         13\n",
       "50          8\n",
       "15          7\n",
       "4           6\n",
       "40          5\n",
       "5           4\n",
       "2           4\n",
       "33          3\n",
       "35          2\n",
       "1           2\n",
       "22          1\n",
       "25          1\n",
       "13          1\n",
       "45          1\n",
       "8           1\n",
       "6           1\n",
       "42          1\n",
       "11          1\n",
       "Name: p11_m2, dtype: int64"
      ]
     },
     "execution_count": 31,
     "metadata": {},
     "output_type": "execute_result"
    }
   ],
   "source": [
    "t1_ENOE['p11_m2'].value_counts()\n",
    "#00-59 Número de minutos dedicados a cuidar\n",
    "#9 No aplica"
   ]
  },
  {
   "cell_type": "code",
   "execution_count": 32,
   "metadata": {},
   "outputs": [
    {
     "data": {
      "text/plain": [
       "9    1089294\n",
       "3     164123\n",
       "Name: p11_3, dtype: int64"
      ]
     },
     "execution_count": 32,
     "metadata": {},
     "output_type": "execute_result"
    }
   ],
   "source": [
    "t1_ENOE['p11_3'].value_counts() #construir o ampliar su vivienda? Aplica del 2008 a 2012 / realizar compras, llevar cuentas o realizar trámites para el hogar o encargarse de la seguridad? como guardar el automóvil, aplica a partir del 2013 \n",
    "#3-si 9-no aplica"
   ]
  },
  {
   "cell_type": "code",
   "execution_count": 33,
   "metadata": {},
   "outputs": [
    {
     "data": {
      "text/plain": [
       "9     1089902\n",
       "2       52111\n",
       "1       30536\n",
       "3       28753\n",
       "4       15414\n",
       "5       11060\n",
       "7        6964\n",
       "6        6561\n",
       "10       3748\n",
       "0        2853\n",
       "8        1805\n",
       "14       1027\n",
       "12        874\n",
       "98        534\n",
       "15        312\n",
       "21        175\n",
       "20        140\n",
       "16        139\n",
       "11        137\n",
       "18         82\n",
       "17         60\n",
       "30         30\n",
       "13         26\n",
       "28         26\n",
       "99         20\n",
       "25         17\n",
       "19         17\n",
       "24         14\n",
       "22         11\n",
       "50         11\n",
       "40          8\n",
       "35          7\n",
       "26          6\n",
       "23          4\n",
       "70          3\n",
       "42          3\n",
       "64          2\n",
       "56          2\n",
       "60          2\n",
       "36          2\n",
       "84          1\n",
       "80          1\n",
       "62          1\n",
       "72          1\n",
       "90          1\n",
       "91          1\n",
       "97          1\n",
       "33          1\n",
       "45          1\n",
       "61          1\n",
       "57          1\n",
       "48          1\n",
       "32          1\n",
       "41          1\n",
       "39          1\n",
       "27          1\n",
       "38          1\n",
       "31          1\n",
       "29          1\n",
       "Name: p11_h3, dtype: int64"
      ]
     },
     "execution_count": 33,
     "metadata": {},
     "output_type": "execute_result"
    }
   ],
   "source": [
    "t1_ENOE['p11_h3'].value_counts() \n",
    "#00-97 Número de horas dedicadas a realizar la actividad\n",
    "#98 Realizó la actividad pero no sabe cuanto tiempo\n",
    "#9 No sabe si realizó la actividad "
   ]
  },
  {
   "cell_type": "code",
   "execution_count": 34,
   "metadata": {},
   "outputs": [
    {
     "data": {
      "text/plain": [
       "9     1089294\n",
       "0      153810\n",
       "30       8518\n",
       "20        573\n",
       "40        223\n",
       "45        213\n",
       "15        201\n",
       "10        198\n",
       "25         97\n",
       "35         55\n",
       "50         51\n",
       "7          50\n",
       "4          34\n",
       "5          19\n",
       "3          15\n",
       "2          13\n",
       "1          13\n",
       "6           7\n",
       "33          6\n",
       "22          5\n",
       "55          4\n",
       "21          3\n",
       "12          2\n",
       "16          2\n",
       "37          2\n",
       "14          1\n",
       "11          1\n",
       "52          1\n",
       "31          1\n",
       "32          1\n",
       "36          1\n",
       "38          1\n",
       "43          1\n",
       "47          1\n",
       "Name: p11_m3, dtype: int64"
      ]
     },
     "execution_count": 34,
     "metadata": {},
     "output_type": "execute_result"
    }
   ],
   "source": [
    "t1_ENOE['p11_m3'].value_counts()\n",
    "#00-59 Número de minutos dedicados a realizar la actividad\n",
    "#9 No aplica"
   ]
  },
  {
   "cell_type": "code",
   "execution_count": 35,
   "metadata": {},
   "outputs": [
    {
     "data": {
      "text/plain": [
       "9    1219950\n",
       "4      33467\n",
       "Name: p11_4, dtype: int64"
      ]
     },
     "execution_count": 35,
     "metadata": {},
     "output_type": "execute_result"
    }
   ],
   "source": [
    "t1_ENOE['p11_4'].value_counts() #reparar o dar mantenimiento a su vivienda, muebles, aparatos electrodomésticos o vehículos? Aplica del 2008 a 2012 / llevar a algún miembro del hogar a la escuela, cita médica u otra actividad? Aplica a partir del 2013\n",
    "#4-si 9-no aplica"
   ]
  },
  {
   "cell_type": "code",
   "execution_count": 36,
   "metadata": {},
   "outputs": [
    {
     "data": {
      "text/plain": [
       "9     1220039\n",
       "2        8205\n",
       "5        6422\n",
       "1        5571\n",
       "3        4854\n",
       "4        2759\n",
       "6        1409\n",
       "10       1113\n",
       "7        1053\n",
       "0         963\n",
       "8         364\n",
       "14        130\n",
       "12        108\n",
       "15         96\n",
       "98         82\n",
       "20         68\n",
       "21         28\n",
       "16         20\n",
       "25         15\n",
       "18         14\n",
       "30         12\n",
       "11         11\n",
       "24         11\n",
       "28         10\n",
       "50          9\n",
       "40          6\n",
       "35          6\n",
       "13          5\n",
       "99          5\n",
       "17          4\n",
       "32          3\n",
       "19          3\n",
       "48          3\n",
       "72          3\n",
       "31          2\n",
       "44          2\n",
       "45          2\n",
       "80          2\n",
       "36          1\n",
       "38          1\n",
       "22          1\n",
       "42          1\n",
       "23          1\n",
       "Name: p11_h4, dtype: int64"
      ]
     },
     "execution_count": 36,
     "metadata": {},
     "output_type": "execute_result"
    }
   ],
   "source": [
    "t1_ENOE['p11_h4'].value_counts() \n",
    "#00-97 Número de horas dedicadas a reparar\n",
    "#98 Realizó la actividad pero no sabe cuanto tiempo\n",
    "#9 No sabe si realizó la actividad "
   ]
  },
  {
   "cell_type": "code",
   "execution_count": 37,
   "metadata": {},
   "outputs": [
    {
     "data": {
      "text/plain": [
       "9     1219950\n",
       "0       28775\n",
       "30       3482\n",
       "40        319\n",
       "50        232\n",
       "20        230\n",
       "15        201\n",
       "45         59\n",
       "25         47\n",
       "10         43\n",
       "7          23\n",
       "5           9\n",
       "1           8\n",
       "2           7\n",
       "3           6\n",
       "35          5\n",
       "44          3\n",
       "4           2\n",
       "6           2\n",
       "14          2\n",
       "11          2\n",
       "12          2\n",
       "8           1\n",
       "13          1\n",
       "16          1\n",
       "18          1\n",
       "23          1\n",
       "32          1\n",
       "33          1\n",
       "55          1\n",
       "Name: p11_m4, dtype: int64"
      ]
     },
     "execution_count": 37,
     "metadata": {},
     "output_type": "execute_result"
    }
   ],
   "source": [
    "t1_ENOE['p11_m4'].value_counts()\n",
    "#00-59 Número de minutos dedicados a realizar la actividad\n",
    "#9 No aplica"
   ]
  },
  {
   "cell_type": "code",
   "execution_count": 38,
   "metadata": {},
   "outputs": [
    {
     "data": {
      "text/plain": [
       "9    1252618\n",
       "5        799\n",
       "Name: p11_5, dtype: int64"
      ]
     },
     "execution_count": 38,
     "metadata": {},
     "output_type": "execute_result"
    }
   ],
   "source": [
    "t1_ENOE['p11_5'].value_counts() #realizar los quehaceres de su hogar? Aplica del 2008 al 2012 / construir o ampliar su vivienda? Aplica a partir del 2013\n",
    "#5-si 9-no aplica"
   ]
  },
  {
   "cell_type": "code",
   "execution_count": 39,
   "metadata": {},
   "outputs": [
    {
     "data": {
      "text/plain": [
       "9     1252631\n",
       "2          81\n",
       "3          72\n",
       "6          61\n",
       "4          59\n",
       "5          55\n",
       "8          52\n",
       "1          49\n",
       "10         48\n",
       "7          42\n",
       "14         36\n",
       "20         24\n",
       "15         21\n",
       "35         20\n",
       "21         16\n",
       "30         16\n",
       "28         16\n",
       "12         13\n",
       "40         13\n",
       "18         12\n",
       "0          12\n",
       "25          9\n",
       "42          8\n",
       "16          7\n",
       "24          6\n",
       "98          6\n",
       "45          5\n",
       "48          4\n",
       "50          3\n",
       "56          3\n",
       "36          2\n",
       "26          2\n",
       "32          2\n",
       "60          2\n",
       "70          1\n",
       "66          1\n",
       "63          1\n",
       "17          1\n",
       "55          1\n",
       "54          1\n",
       "74          1\n",
       "13          1\n",
       "46          1\n",
       "Name: p11_h5, dtype: int64"
      ]
     },
     "execution_count": 39,
     "metadata": {},
     "output_type": "execute_result"
    }
   ],
   "source": [
    "t1_ENOE['p11_h5'].value_counts() \n",
    "#00-97 Número de horas dedicadas a construir\n",
    "#98 Realizó la actividad pero no sabe cuanto tiempo\n",
    "#9 No sabe si realizó la actividad "
   ]
  },
  {
   "cell_type": "code",
   "execution_count": 40,
   "metadata": {},
   "outputs": [
    {
     "data": {
      "text/plain": [
       "9     1252618\n",
       "0         779\n",
       "30         12\n",
       "20          3\n",
       "15          3\n",
       "55          1\n",
       "3           1\n",
       "Name: p11_m5, dtype: int64"
      ]
     },
     "execution_count": 40,
     "metadata": {},
     "output_type": "execute_result"
    }
   ],
   "source": [
    "t1_ENOE['p11_m5'].value_counts()\n",
    "#00-59 Número de minutos dedicados a realizar la actividad\n",
    "#9 No aplica"
   ]
  },
  {
   "cell_type": "code",
   "execution_count": 41,
   "metadata": {},
   "outputs": [
    {
     "data": {
      "text/plain": [
       "9    1237641\n",
       "6      15776\n",
       "Name: p11_6, dtype: int64"
      ]
     },
     "execution_count": 41,
     "metadata": {},
     "output_type": "execute_result"
    }
   ],
   "source": [
    "t1_ENOE['p11_6'].value_counts() #prestar servicios gratuitos a su comunidad? Aplica del 2008 a 2012 / reparar o dar mantenimiento a su vivienda, muebles, aparatos electrodomésticos o vehículos? aplica a partir del 2013\n",
    "#6-si 9-no aplica"
   ]
  },
  {
   "cell_type": "code",
   "execution_count": 42,
   "metadata": {},
   "outputs": [
    {
     "data": {
      "text/plain": [
       "9     1237737\n",
       "2        4388\n",
       "1        3041\n",
       "3        2041\n",
       "4        1500\n",
       "6         987\n",
       "5         931\n",
       "10        605\n",
       "7         548\n",
       "8         484\n",
       "0         422\n",
       "12        177\n",
       "14        117\n",
       "15        112\n",
       "20         53\n",
       "16         48\n",
       "98         40\n",
       "21         35\n",
       "18         29\n",
       "24         18\n",
       "28         13\n",
       "30         12\n",
       "25         11\n",
       "11         10\n",
       "40          8\n",
       "13          7\n",
       "35          6\n",
       "48          5\n",
       "42          4\n",
       "56          4\n",
       "60          3\n",
       "36          3\n",
       "23          2\n",
       "22          2\n",
       "32          2\n",
       "17          1\n",
       "19          1\n",
       "27          1\n",
       "29          1\n",
       "38          1\n",
       "39          1\n",
       "45          1\n",
       "49          1\n",
       "50          1\n",
       "70          1\n",
       "71          1\n",
       "99          1\n",
       "Name: p11_h6, dtype: int64"
      ]
     },
     "execution_count": 42,
     "metadata": {},
     "output_type": "execute_result"
    }
   ],
   "source": [
    "t1_ENOE['p11_h6'].value_counts() \n",
    "#00-97 Número de horas dedicadas a \n",
    "#98 Realizó la actividad pero no sabe cuanto tiempo\n",
    "#9 No sabe si realizó la actividad "
   ]
  },
  {
   "cell_type": "code",
   "execution_count": 43,
   "metadata": {},
   "outputs": [
    {
     "data": {
      "text/plain": [
       "9     1237641\n",
       "0       15007\n",
       "30        641\n",
       "20         39\n",
       "40         24\n",
       "15         16\n",
       "10         11\n",
       "50         10\n",
       "7           9\n",
       "45          7\n",
       "35          4\n",
       "33          2\n",
       "3           2\n",
       "25          1\n",
       "11          1\n",
       "5           1\n",
       "2           1\n",
       "Name: p11_m6, dtype: int64"
      ]
     },
     "execution_count": 43,
     "metadata": {},
     "output_type": "execute_result"
    }
   ],
   "source": [
    "t1_ENOE['p11_m6'].value_counts()\n",
    "#00-59 Número de minutos dedicados a realizar la actividad\n",
    "#9 No aplica"
   ]
  },
  {
   "cell_type": "code",
   "execution_count": 44,
   "metadata": {},
   "outputs": [
    {
     "data": {
      "text/plain": [
       "9    1005515\n",
       "7     247902\n",
       "Name: p11_7, dtype: int64"
      ]
     },
     "execution_count": 44,
     "metadata": {},
     "output_type": "execute_result"
    }
   ],
   "source": [
    "t1_ENOE['p11_7'].value_counts() #realizar los quehaceres de su hogar? Solo aplica a partir del 2013\n",
    "#7-si 9-no aplica"
   ]
  },
  {
   "cell_type": "code",
   "execution_count": 45,
   "metadata": {},
   "outputs": [
    {
     "data": {
      "text/plain": [
       "9     1007727\n",
       "7       28510\n",
       "14      21687\n",
       "21      19083\n",
       "2       17859\n",
       "10      15159\n",
       "28      14845\n",
       "3       13860\n",
       "5       10234\n",
       "1        9781\n",
       "35       9765\n",
       "4        8716\n",
       "20       8187\n",
       "6        7707\n",
       "30       7081\n",
       "12       5200\n",
       "15       4447\n",
       "18       4127\n",
       "42       4025\n",
       "8        3870\n",
       "25       3814\n",
       "40       2637\n",
       "16       2529\n",
       "36       2343\n",
       "32       2005\n",
       "24       1991\n",
       "56       1806\n",
       "26       1575\n",
       "38       1284\n",
       "22       1171\n",
       "       ...   \n",
       "41         74\n",
       "52         67\n",
       "58         52\n",
       "54         48\n",
       "47         42\n",
       "63         38\n",
       "43         36\n",
       "55         34\n",
       "72         16\n",
       "84         13\n",
       "99         12\n",
       "62          5\n",
       "65          5\n",
       "53          3\n",
       "97          3\n",
       "64          3\n",
       "51          2\n",
       "77          2\n",
       "66          2\n",
       "74          2\n",
       "59          2\n",
       "80          2\n",
       "67          1\n",
       "81          1\n",
       "85          1\n",
       "86          1\n",
       "87          1\n",
       "92          1\n",
       "95          1\n",
       "68          1\n",
       "Name: p11_h7, Length: 82, dtype: int64"
      ]
     },
     "execution_count": 45,
     "metadata": {},
     "output_type": "execute_result"
    }
   ],
   "source": [
    "t1_ENOE['p11_h7'].value_counts() \n",
    "#00-97 Número de horas dedicadas a hacer los quehaceres\n",
    "#98 Realizó la actividad pero no sabe cuanto tiempo\n",
    "#9 No sabe si realizó la actividad / no aplica"
   ]
  },
  {
   "cell_type": "code",
   "execution_count": 46,
   "metadata": {},
   "outputs": [
    {
     "data": {
      "text/plain": [
       "9     1005516\n",
       "0      243232\n",
       "30       4277\n",
       "20        113\n",
       "10         75\n",
       "40         46\n",
       "45         42\n",
       "15         25\n",
       "1          19\n",
       "50         16\n",
       "33         11\n",
       "35          9\n",
       "25          7\n",
       "2           6\n",
       "3           5\n",
       "8           4\n",
       "6           4\n",
       "5           2\n",
       "4           2\n",
       "12          1\n",
       "36          1\n",
       "22          1\n",
       "42          1\n",
       "32          1\n",
       "55          1\n",
       "Name: p11_m7, dtype: int64"
      ]
     },
     "execution_count": 46,
     "metadata": {},
     "output_type": "execute_result"
    }
   ],
   "source": [
    "t1_ENOE['p11_m7'].value_counts()\n",
    "#00-59 Número de minutos dedicados a realizar la actividad\n",
    "#9 No aplica"
   ]
  },
  {
   "cell_type": "code",
   "execution_count": 47,
   "metadata": {},
   "outputs": [
    {
     "data": {
      "text/plain": [
       "9    1250485\n",
       "8       2932\n",
       "Name: p11_8, dtype: int64"
      ]
     },
     "execution_count": 47,
     "metadata": {},
     "output_type": "execute_result"
    }
   ],
   "source": [
    "t1_ENOE['p11_8'].value_counts() #prestar servicios gratuitos a su comunidad? Solo aplica a partir del 2013\n",
    "#8-si 9-no aplica"
   ]
  },
  {
   "cell_type": "code",
   "execution_count": 48,
   "metadata": {},
   "outputs": [
    {
     "data": {
      "text/plain": [
       "9     1250511\n",
       "2         656\n",
       "1         476\n",
       "3         360\n",
       "4         272\n",
       "5         168\n",
       "6         161\n",
       "10        142\n",
       "8         135\n",
       "7          69\n",
       "0          53\n",
       "12         53\n",
       "20         49\n",
       "15         48\n",
       "14         37\n",
       "21         31\n",
       "30         30\n",
       "28         23\n",
       "98         21\n",
       "18         16\n",
       "24         13\n",
       "16         13\n",
       "40         12\n",
       "25         12\n",
       "35          8\n",
       "45          6\n",
       "17          6\n",
       "48          5\n",
       "42          4\n",
       "13          4\n",
       "36          4\n",
       "29          2\n",
       "32          2\n",
       "50          2\n",
       "60          2\n",
       "68          2\n",
       "26          2\n",
       "11          1\n",
       "19          1\n",
       "81          1\n",
       "49          1\n",
       "54          1\n",
       "55          1\n",
       "56          1\n",
       "Name: p11_h8, dtype: int64"
      ]
     },
     "execution_count": 48,
     "metadata": {},
     "output_type": "execute_result"
    }
   ],
   "source": [
    "t1_ENOE['p11_h8'].value_counts() \n",
    "#00-97 Número de horas dedicadas a servicios\n",
    "#98 Realizó la actividad pero no sabe cuanto tiempo\n",
    "#9 No sabe si realizó la actividad / no aplica"
   ]
  },
  {
   "cell_type": "code",
   "execution_count": 49,
   "metadata": {},
   "outputs": [
    {
     "data": {
      "text/plain": [
       "9     1250485\n",
       "0        2776\n",
       "30        139\n",
       "20          9\n",
       "40          4\n",
       "15          2\n",
       "42          1\n",
       "10          1\n",
       "Name: p11_m8, dtype: int64"
      ]
     },
     "execution_count": 49,
     "metadata": {},
     "output_type": "execute_result"
    }
   ],
   "source": [
    "t1_ENOE['p11_m8'].value_counts()\n",
    "#00-59 Número de minutos dedicados a realizar la actividad\n",
    "#9 No aplica"
   ]
  },
  {
   "cell_type": "markdown",
   "metadata": {},
   "source": [
    "# Pregunta 6: ¿recibe o le pagan... Pregunta de opción múltiple, respuestas en P6_1 a P6_10 y P6_99"
   ]
  },
  {
   "cell_type": "code",
   "execution_count": 50,
   "metadata": {},
   "outputs": [
    {
     "data": {
      "text/plain": [
       "9    1228073\n",
       "1      25344\n",
       "Name: p6_1, dtype: int64"
      ]
     },
     "execution_count": 50,
     "metadata": {},
     "output_type": "execute_result"
    }
   ],
   "source": [
    "t1_ENOE['p6_1'].value_counts()#por comisión? \n",
    "#1-si 9-no aplica"
   ]
  },
  {
   "cell_type": "code",
   "execution_count": 51,
   "metadata": {},
   "outputs": [
    {
     "data": {
      "text/plain": [
       "9    1237052\n",
       "2      16365\n",
       "Name: p6_2, dtype: int64"
      ]
     },
     "execution_count": 51,
     "metadata": {},
     "output_type": "execute_result"
    }
   ],
   "source": [
    "t1_ENOE['p6_2'].value_counts()#a destajo por pieza, servicio u obra realizada?\n",
    "#2-si 9-no aplica"
   ]
  },
  {
   "cell_type": "code",
   "execution_count": 52,
   "metadata": {},
   "outputs": [
    {
     "data": {
      "text/plain": [
       "9    1251108\n",
       "3       2309\n",
       "Name: p6_3, dtype: int64"
      ]
     },
     "execution_count": 52,
     "metadata": {},
     "output_type": "execute_result"
    }
   ],
   "source": [
    "t1_ENOE['p6_3'].value_counts()#por honorarios?\n",
    "#3-si 9-no aplica"
   ]
  },
  {
   "cell_type": "code",
   "execution_count": 53,
   "metadata": {},
   "outputs": [
    {
     "data": {
      "text/plain": [
       "9    1244090\n",
       "4       9327\n",
       "Name: p6_4, dtype: int64"
      ]
     },
     "execution_count": 53,
     "metadata": {},
     "output_type": "execute_result"
    }
   ],
   "source": [
    "t1_ENOE['p6_4'].value_counts()#con propinas?\n",
    "#4-si 9-no aplica"
   ]
  },
  {
   "cell_type": "code",
   "execution_count": 54,
   "metadata": {},
   "outputs": [
    {
     "data": {
      "text/plain": [
       "9    1243129\n",
       "5      10288\n",
       "Name: p6_5, dtype: int64"
      ]
     },
     "execution_count": 54,
     "metadata": {},
     "output_type": "execute_result"
    }
   ],
   "source": [
    "t1_ENOE['p6_5'].value_counts()#con bonos de compensación o de productividad?\n",
    "#5-si 9-no aplica"
   ]
  },
  {
   "cell_type": "code",
   "execution_count": 55,
   "metadata": {},
   "outputs": [
    {
     "data": {
      "text/plain": [
       "9    1224514\n",
       "6      28903\n",
       "Name: p6_6, dtype: int64"
      ]
     },
     "execution_count": 55,
     "metadata": {},
     "output_type": "execute_result"
    }
   ],
   "source": [
    "t1_ENOE['p6_6'].value_counts()#con vales o productos comercializables?\n",
    "#6-si 9-no aplica"
   ]
  },
  {
   "cell_type": "code",
   "execution_count": 56,
   "metadata": {},
   "outputs": [
    {
     "data": {
      "text/plain": [
       "9    903530\n",
       "7    349887\n",
       "Name: p6_7, dtype: int64"
      ]
     },
     "execution_count": 56,
     "metadata": {},
     "output_type": "execute_result"
    }
   ],
   "source": [
    "t1_ENOE['p6_7'].value_counts()#Solo recibe sueldo, salario o jornal\n",
    "#7-si 9-no aplica"
   ]
  },
  {
   "cell_type": "code",
   "execution_count": 57,
   "metadata": {},
   "outputs": [
    {
     "data": {
      "text/plain": [
       "9    1121157\n",
       "8     132260\n",
       "Name: p6_8, dtype: int64"
      ]
     },
     "execution_count": 57,
     "metadata": {},
     "output_type": "execute_result"
    }
   ],
   "source": [
    "t1_ENOE['p6_8'].value_counts()#Solo lo que le deja su negocio\n",
    "#8-si 9-no aplica"
   ]
  },
  {
   "cell_type": "code",
   "execution_count": 58,
   "metadata": {},
   "outputs": [
    {
     "data": {
      "text/plain": [
       "9    1253417\n",
       "Name: p6_9, dtype: int64"
      ]
     },
     "execution_count": 58,
     "metadata": {},
     "output_type": "execute_result"
    }
   ],
   "source": [
    "t1_ENOE['p6_9'].value_counts()#no le pagan ni recibe ingresos incluye autoconsumo agropecuario\n",
    "#9-si 99-no aplica"
   ]
  },
  {
   "cell_type": "code",
   "execution_count": 59,
   "metadata": {},
   "outputs": [],
   "source": [
    "t1_ENOE.drop('p6_9',axis = 1,inplace = True)"
   ]
  },
  {
   "cell_type": "code",
   "execution_count": 60,
   "metadata": {},
   "outputs": [
    {
     "data": {
      "text/plain": [
       "9     1190502\n",
       "10      62915\n",
       "Name: p6_10, dtype: int64"
      ]
     },
     "execution_count": 60,
     "metadata": {},
     "output_type": "execute_result"
    }
   ],
   "source": [
    "t1_ENOE['p6_10'].value_counts()#ninguna de las anteriores\n",
    "#10-si 9-no aplica"
   ]
  },
  {
   "cell_type": "code",
   "execution_count": 61,
   "metadata": {},
   "outputs": [
    {
     "data": {
      "text/plain": [
       "9     1253217\n",
       "99        200\n",
       "Name: p6_99, dtype: int64"
      ]
     },
     "execution_count": 61,
     "metadata": {},
     "output_type": "execute_result"
    }
   ],
   "source": [
    "t1_ENOE['p6_99'].value_counts()#no sabe\n",
    "#9-si 99-no aplica"
   ]
  },
  {
   "cell_type": "code",
   "execution_count": 62,
   "metadata": {},
   "outputs": [],
   "source": [
    "t1_ENOE.drop('p6_99',axis = 1,inplace = True)"
   ]
  },
  {
   "cell_type": "markdown",
   "metadata": {},
   "source": [
    "# Pregunta 6a: Aparte de lo que me acaba de mencionar,¿ ...obtiene o le pagan sus ingresos ? Pregunta de opción múltiple, respuestas en P6a1 a P6a4 y P6a9"
   ]
  },
  {
   "cell_type": "code",
   "execution_count": 63,
   "metadata": {},
   "outputs": [
    {
     "data": {
      "text/plain": [
       "9    1155795\n",
       "1      97622\n",
       "Name: p6a1, dtype: int64"
      ]
     },
     "execution_count": 63,
     "metadata": {},
     "output_type": "execute_result"
    }
   ],
   "source": [
    "t1_ENOE['p6a1'].value_counts()#a sueldo, salario o jornal?\n",
    "#1-si 9-no aplica"
   ]
  },
  {
   "cell_type": "code",
   "execution_count": 64,
   "metadata": {},
   "outputs": [
    {
     "data": {
      "text/plain": [
       "9    1234979\n",
       "2      18438\n",
       "Name: p6a2, dtype: int64"
      ]
     },
     "execution_count": 64,
     "metadata": {},
     "output_type": "execute_result"
    }
   ],
   "source": [
    "t1_ENOE['p6a2'].value_counts()#por ganancias o de lo que deja su negocio?\n",
    "#2-si 9-no aplica"
   ]
  },
  {
   "cell_type": "code",
   "execution_count": 65,
   "metadata": {},
   "outputs": [
    {
     "data": {
      "text/plain": [
       "9    1252475\n",
       "3        942\n",
       "Name: p6a3, dtype: int64"
      ]
     },
     "execution_count": 65,
     "metadata": {},
     "output_type": "execute_result"
    }
   ],
   "source": [
    "t1_ENOE['p6a3'].value_counts()#no le pagan ni recibe ingresos incluye autoconsumo agropecuario\n",
    "#3-si 9-no aplica"
   ]
  },
  {
   "cell_type": "code",
   "execution_count": 66,
   "metadata": {},
   "outputs": [
    {
     "data": {
      "text/plain": [
       "9    1220913\n",
       "4      32504\n",
       "Name: p6a4, dtype: int64"
      ]
     },
     "execution_count": 66,
     "metadata": {},
     "output_type": "execute_result"
    }
   ],
   "source": [
    "t1_ENOE['p6a4'].value_counts()#ninguna de las anteriores\n",
    "#4-si 9-no aplica"
   ]
  },
  {
   "cell_type": "code",
   "execution_count": 67,
   "metadata": {},
   "outputs": [
    {
     "data": {
      "text/plain": [
       "9    1253417\n",
       "Name: p6a9, dtype: int64"
      ]
     },
     "execution_count": 67,
     "metadata": {},
     "output_type": "execute_result"
    }
   ],
   "source": [
    "t1_ENOE['p6a9'].value_counts()#no sabe\n",
    "#9-si 9-no aplica"
   ]
  },
  {
   "cell_type": "markdown",
   "metadata": {},
   "source": [
    "# Pregunta 6b: ¿Cada cuándo obtiene ... sus ingresos o le pagan? respuesta en p6b1 /cantidad en pesos en p6b2"
   ]
  },
  {
   "cell_type": "code",
   "execution_count": 68,
   "metadata": {},
   "outputs": [
    {
     "data": {
      "text/plain": [
       "9    622780\n",
       "3    236242\n",
       "2    122664\n",
       "7    107232\n",
       "4     85061\n",
       "1     35137\n",
       "8     28499\n",
       "5     13405\n",
       "6      2397\n",
       "Name: p6b1, dtype: int64"
      ]
     },
     "execution_count": 68,
     "metadata": {},
     "output_type": "execute_result"
    }
   ],
   "source": [
    "t1_ENOE['p6b1'].value_counts()\n",
    "#1 Cada mes\n",
    "#2 Cada 15 días\n",
    "#3 Cada semana\n",
    "#4 Diario\n",
    "#5 Otro periodo de pago \n",
    "#6 Le pagan por pieza producida o vendida, servicio u obra realizada \n",
    "#7 No supo estimar\n",
    "#8 Se negó a contestar\n",
    "#9 no aplica"
   ]
  },
  {
   "cell_type": "code",
   "execution_count": 69,
   "metadata": {},
   "outputs": [
    {
     "data": {
      "text/plain": [
       "9        758513\n",
       "4300      32269\n",
       "5160      28551\n",
       "2580      22448\n",
       "3440      21495\n",
       "3870      20437\n",
       "6450      19954\n",
       "6000      17617\n",
       "2150      13941\n",
       "3010      12996\n",
       "8000      11738\n",
       "1290      11388\n",
       "8600      11092\n",
       "4000      10795\n",
       "3000      10474\n",
       "10000     10250\n",
       "5000       9811\n",
       "1720       8068\n",
       "7000       7763\n",
       "860        7036\n",
       "5590       6788\n",
       "4730       6754\n",
       "7740       6530\n",
       "12000      6429\n",
       "9000       5002\n",
       "3225       4700\n",
       "3600       4621\n",
       "6020       4527\n",
       "12900      3664\n",
       "2000       3531\n",
       "          ...  \n",
       "2582          1\n",
       "17950         1\n",
       "4628          1\n",
       "7702          1\n",
       "23070         1\n",
       "5654          1\n",
       "9744          1\n",
       "10776         1\n",
       "8730          1\n",
       "552           1\n",
       "9765          1\n",
       "1575          1\n",
       "14880         1\n",
       "3623          1\n",
       "2596          1\n",
       "30250         1\n",
       "3621          1\n",
       "4646          1\n",
       "36400         1\n",
       "1569          1\n",
       "4636          1\n",
       "6690          1\n",
       "3617          1\n",
       "1568          1\n",
       "4642          1\n",
       "2593          1\n",
       "544           1\n",
       "543           1\n",
       "12825         1\n",
       "1024          1\n",
       "Name: p6b2, Length: 4440, dtype: int64"
      ]
     },
     "execution_count": 69,
     "metadata": {},
     "output_type": "execute_result"
    }
   ],
   "source": [
    "t1_ENOE['p6b2'].value_counts()\n",
    "#000001-999998 Cantidad en pesos cuando pregunta 6b = 1, 2, 3, 4, 5 ó 6 \n",
    "#9 Se negó a contestar"
   ]
  },
  {
   "cell_type": "markdown",
   "metadata": {},
   "source": [
    "# Pregunta 6c: Actualmente el salario mínimo mensual es de (signo de pesos), ¿la cantidad que ... Obtiene al mes por su trabajo es (respuesta en p6c)"
   ]
  },
  {
   "cell_type": "code",
   "execution_count": 70,
   "metadata": {},
   "outputs": [
    {
     "data": {
      "text/plain": [
       "9    1172259\n",
       "8      25188\n",
       "3      17135\n",
       "4      15283\n",
       "5       9326\n",
       "2       5642\n",
       "1       4902\n",
       "6       2935\n",
       "7        747\n",
       "Name: p6c, dtype: int64"
      ]
     },
     "execution_count": 70,
     "metadata": {},
     "output_type": "execute_result"
    }
   ],
   "source": [
    "t1_ENOE['p6c'].value_counts()\n",
    "#1 menor?\n",
    "#2 igual a esta cantidad?\n",
    "#3 más de 1 salario mínimo\n",
    "#hasta 2?\n",
    "#4 más de 2 salarios mínimos hasta 3?\n",
    "#5 más de 3 salarios mínimos hasta 5?\n",
    "#6 más de 5 salarios mínimos hasta 10?\n",
    "#7 más de 10 salarios mínimos?\n",
    "#8 No quiso dar información\n",
    "#9 No sabe / No aplica"
   ]
  },
  {
   "cell_type": "markdown",
   "metadata": {},
   "source": [
    "# Pregunta 6d: Por parte de este trabajo ¿... tiene acceso a atención médica en respuesta en p6d"
   ]
  },
  {
   "cell_type": "code",
   "execution_count": 71,
   "metadata": {},
   "outputs": [
    {
     "data": {
      "text/plain": [
       "9    580252\n",
       "6    397301\n",
       "1    220346\n",
       "3     37481\n",
       "4      8699\n",
       "5      5551\n",
       "2      3787\n",
       "Name: p6d, dtype: int64"
      ]
     },
     "execution_count": 71,
     "metadata": {},
     "output_type": "execute_result"
    }
   ],
   "source": [
    "t1_ENOE['p6d'].value_counts()\n",
    "#1 el seguro social IMSS\n",
    "#2 el hospital o clínica naval, militar o de PEMEX?\n",
    "#3 el ISSSTE?\n",
    "#4 el ISSSTE estatal (ISSSTE LEÓN, ISSEMYM)?\n",
    "#5 otra institución médica?\n",
    "#6 No recibe atención médica\n",
    "#9 No sabe / No aplica"
   ]
  },
  {
   "cell_type": "markdown",
   "metadata": {},
   "source": [
    "# Pregunta 7: Además del trabajo Carácter principal del que ya hablamos, ¿...tiene o realiza otra actividad como (respuesta en p7)"
   ]
  },
  {
   "cell_type": "code",
   "execution_count": 72,
   "metadata": {},
   "outputs": [
    {
     "data": {
      "text/plain": [
       "7    636586\n",
       "9    578402\n",
       "5     12551\n",
       "2      8037\n",
       "1      7730\n",
       "6      5167\n",
       "3      4389\n",
       "4       555\n",
       "Name: p7, dtype: int64"
      ]
     },
     "execution_count": 72,
     "metadata": {},
     "output_type": "execute_result"
    }
   ],
   "source": [
    "t1_ENOE['p7'].value_counts()\n",
    "#1 vender o hacer productos para la venta (alimentos, productos de belleza, ropa)?\n",
    "#2 prestar servicios (dar clases, cortar el cabello, lavar ropa ajena)?\n",
    "#3 trabajar su tierra o parcela y/o criar de animales?\n",
    "#4 trabajar por propinas, comisión o destajo?\n",
    "#5 trabajar como asalariado (sueldo, salario o jornal)?\n",
    "#6 ayudar en algún negocio o en las tierras de un familiar o de otra persona?\n",
    "#7 No tiene otro trabajo\n",
    "#9 No sabe / No aplica"
   ]
  },
  {
   "cell_type": "markdown",
   "metadata": {},
   "source": [
    "# Pregunta 7a: ¿Cuáles son las tareas o funciones principales que... desempeña en su segundo trabajo? (respuesta en p7a)"
   ]
  },
  {
   "cell_type": "code",
   "execution_count": 73,
   "metadata": {},
   "outputs": [
    {
     "data": {
      "text/plain": [
       "9       1214988\n",
       "6111       3219\n",
       "9111       3105\n",
       "4211       2017\n",
       "4111       1872\n",
       "4224       1436\n",
       "9611       1355\n",
       "9521        843\n",
       "9512        838\n",
       "2321        824\n",
       "7121        782\n",
       "9221        748\n",
       "7513        640\n",
       "5114        609\n",
       "9411        459\n",
       "2172        451\n",
       "9621        446\n",
       "2332        419\n",
       "2331        408\n",
       "8342        393\n",
       "5116        372\n",
       "2632        371\n",
       "2322        322\n",
       "7341        318\n",
       "7221        314\n",
       "2642        313\n",
       "2651        311\n",
       "5211        310\n",
       "6121        298\n",
       "9643        298\n",
       "         ...   \n",
       "6999          1\n",
       "8135          1\n",
       "3112          1\n",
       "8301          1\n",
       "8155          1\n",
       "9731          1\n",
       "8321          1\n",
       "8322          1\n",
       "8349          1\n",
       "3232          1\n",
       "2223          1\n",
       "6129          1\n",
       "2234          1\n",
       "6231          1\n",
       "1226          1\n",
       "2262          1\n",
       "2281          1\n",
       "7401          1\n",
       "2334          1\n",
       "1312          1\n",
       "1313          1\n",
       "2421          1\n",
       "8154          1\n",
       "2513          1\n",
       "2521          1\n",
       "2524          1\n",
       "2113          1\n",
       "9711          1\n",
       "2542          1\n",
       "8141          1\n",
       "Name: p7a, Length: 411, dtype: int64"
      ]
     },
     "execution_count": 73,
     "metadata": {},
     "output_type": "execute_result"
    }
   ],
   "source": [
    "t1_ENOE['p7a'].value_counts()#Catálogo “Ver Catálogo de Código CMO en pregunta 7A hasta el periodo 212 Ver Catálogo de Código SINCO en pregunta 7A a partir del periodo 312”\n",
    "#9 No aplica"
   ]
  },
  {
   "cell_type": "markdown",
   "metadata": {},
   "source": [
    "# Pregunta 7b: ¿Cuál es el nombre de la empresa, negocio o institución para la que...realiza este otro trabajo (respuesta en p7b)"
   ]
  },
  {
   "cell_type": "code",
   "execution_count": 74,
   "metadata": {},
   "outputs": [
    {
     "data": {
      "text/plain": [
       "9    1215005\n",
       "2      25522\n",
       "1      10894\n",
       "3       1984\n",
       "4         12\n",
       "Name: p7b, dtype: int64"
      ]
     },
     "execution_count": 74,
     "metadata": {},
     "output_type": "execute_result"
    }
   ],
   "source": [
    "t1_ENOE['p7b'].value_counts()\n",
    "#1 Nombre de la empresa\n",
    "#2 El negocio no tiene nombre\n",
    "#3 Es trabajador (subordinado) de una unidad doméstica o trabajador(a) de otro trabajador(a)\n",
    "#4 Es un(a) trabajador(a) en el extranjero\n",
    "#9 No sabe / No aplica"
   ]
  },
  {
   "cell_type": "markdown",
   "metadata": {},
   "source": [
    "# Pregunta 7c: ¿A qué se dedica esta empresa, negocio o institución donde trabaja o ayuda ... en su segundo trabajo? (respuesta en p7c)"
   ]
  },
  {
   "cell_type": "code",
   "execution_count": 75,
   "metadata": {},
   "outputs": [
    {
     "data": {
      "text/plain": [
       "9       1214987\n",
       "1110       7368\n",
       "4611       2167\n",
       "7221       2145\n",
       "8140       1866\n",
       "2382       1861\n",
       "4690       1496\n",
       "3110       1112\n",
       "6112       1056\n",
       "5411       1018\n",
       "1121       1015\n",
       "8112        886\n",
       "8121        861\n",
       "8111        746\n",
       "6211        727\n",
       "4850        587\n",
       "2361        585\n",
       "7111        559\n",
       "7222        524\n",
       "6132        524\n",
       "4651        478\n",
       "4612        423\n",
       "6131        421\n",
       "6141        418\n",
       "4631        412\n",
       "5613        394\n",
       "3320        391\n",
       "6111        386\n",
       "4661        381\n",
       "5611        359\n",
       "         ...   \n",
       "2122          4\n",
       "4360          3\n",
       "5616          3\n",
       "5510          3\n",
       "2210          3\n",
       "3350          3\n",
       "8125          2\n",
       "2110          2\n",
       "3340          2\n",
       "6139          2\n",
       "4882          2\n",
       "3310          2\n",
       "1199          2\n",
       "2132          2\n",
       "9311          2\n",
       "3330          2\n",
       "9999          1\n",
       "2399          1\n",
       "5612          1\n",
       "9320          1\n",
       "6119          1\n",
       "2121          1\n",
       "4399          1\n",
       "2222          1\n",
       "1142          1\n",
       "4930          1\n",
       "4910          1\n",
       "8124          1\n",
       "5223          1\n",
       "7133          1\n",
       "Name: p7c, Length: 154, dtype: int64"
      ]
     },
     "execution_count": 75,
     "metadata": {},
     "output_type": "execute_result"
    }
   ],
   "source": [
    "t1_ENOE['p7c'].value_counts()#Catálogo de Código SCIAN\n",
    "#9 No aplica"
   ]
  },
  {
   "cell_type": "markdown",
   "metadata": {},
   "source": [
    "# Pregunta 7d: Por parte de este segundo trabajo, ¿.. tiene acceso a atención médica en (respuesta en p7d)"
   ]
  },
  {
   "cell_type": "code",
   "execution_count": 76,
   "metadata": {},
   "outputs": [
    {
     "data": {
      "text/plain": [
       "9    1243559\n",
       "4       9121\n",
       "1        399\n",
       "2        252\n",
       "3         86\n",
       "Name: p7d, dtype: int64"
      ]
     },
     "execution_count": 76,
     "metadata": {},
     "output_type": "execute_result"
    }
   ],
   "source": [
    "t1_ENOE['p7d'].value_counts()\n",
    "#1 el seguro social IMSS\n",
    "#2 el ISSSTE?\n",
    "#3 otra institución médica?\n",
    "#4 No recibe atención médica\n",
    "#9 No sabe / No aplica"
   ]
  },
  {
   "cell_type": "markdown",
   "metadata": {},
   "source": [
    "# Atención desde la pregunta p7e hasta la pregunta p7gcan aplican apartir del II trimestre de 2007 (del campo 40 al 48)"
   ]
  },
  {
   "cell_type": "markdown",
   "metadata": {},
   "source": [
    "# Pregunta 7e: ¿Aproximadamente cuántas personas laboran donde trabaja ... en su segundo empleo? (respuesta en p7e)"
   ]
  },
  {
   "cell_type": "code",
   "execution_count": 77,
   "metadata": {},
   "outputs": [
    {
     "data": {
      "text/plain": [
       "9     1243659\n",
       "2        4576\n",
       "1        3576\n",
       "3         398\n",
       "11        237\n",
       "99        182\n",
       "4         176\n",
       "8         164\n",
       "5         161\n",
       "7         118\n",
       "6         114\n",
       "10         56\n",
       "Name: p7e, dtype: int64"
      ]
     },
     "execution_count": 77,
     "metadata": {},
     "output_type": "execute_result"
    }
   ],
   "source": [
    "t1_ENOE['p7e'].value_counts()\n",
    "#01 1 persona\n",
    "#02 2 a 5 personas\n",
    "#03 6 a 10 personas\n",
    "#04 11 a 15 personas\n",
    "#05 16 a 20 personas\n",
    "#06 1 a 30 personas\n",
    "#07 31 a 50 personas\n",
    "#08 1 a 100 personas\n",
    "#09 101 a 250 personas\n",
    "#10 251 a 500 personas\n",
    "#11 501 y más personas\n",
    "#9 No sabe"
   ]
  },
  {
   "cell_type": "markdown",
   "metadata": {},
   "source": [
    "# Pregunta 7f: ¿Cuántos días y cuántas horas le dedicó ... a su segundo trabajo la semana pasada? (respuestas en p7f, p7f_dias y p7f_horas)"
   ]
  },
  {
   "cell_type": "code",
   "execution_count": 78,
   "metadata": {},
   "outputs": [
    {
     "data": {
      "text/plain": [
       "9    1243535\n",
       "1       7772\n",
       "2       2110\n",
       "Name: p7f, dtype: int64"
      ]
     },
     "execution_count": 78,
     "metadata": {},
     "output_type": "execute_result"
    }
   ],
   "source": [
    "t1_ENOE['p7f'].value_counts()\n",
    "#1 Si dió horas y/o minutos a la semana\n",
    "#2 No trabajó la semana pasada \n",
    "#9 No aplica"
   ]
  },
  {
   "cell_type": "code",
   "execution_count": 79,
   "metadata": {},
   "outputs": [
    {
     "data": {
      "text/plain": [
       "9    1245663\n",
       "2       1745\n",
       "1       1280\n",
       "3       1270\n",
       "5       1200\n",
       "7        988\n",
       "6        753\n",
       "4        518\n",
       "Name: p7f_dias, dtype: int64"
      ]
     },
     "execution_count": 79,
     "metadata": {},
     "output_type": "execute_result"
    }
   ],
   "source": [
    "t1_ENOE['p7f_dias'].value_counts()#Número de días trabajados\n",
    "#1-7 Total de dias trabajados a la semana\n",
    "#9 No sabe cuantos días / No aplica"
   ]
  },
  {
   "cell_type": "code",
   "execution_count": 80,
   "metadata": {},
   "outputs": [
    {
     "data": {
      "text/plain": [
       "9     1245824\n",
       "6         679\n",
       "8         535\n",
       "10        524\n",
       "12        493\n",
       "4         483\n",
       "20        442\n",
       "24        358\n",
       "3         357\n",
       "16        324\n",
       "15        308\n",
       "5         305\n",
       "14        288\n",
       "2         278\n",
       "18        269\n",
       "30        256\n",
       "7         230\n",
       "21        207\n",
       "28        165\n",
       "25        155\n",
       "40        130\n",
       "35        125\n",
       "1          98\n",
       "36         74\n",
       "42         70\n",
       "48         68\n",
       "32         54\n",
       "99         52\n",
       "22         24\n",
       "13         22\n",
       "       ...   \n",
       "27         13\n",
       "50         13\n",
       "26         12\n",
       "72          9\n",
       "70          9\n",
       "60          9\n",
       "23          9\n",
       "17          8\n",
       "54          7\n",
       "19          6\n",
       "84          5\n",
       "38          5\n",
       "33          4\n",
       "34          4\n",
       "44          3\n",
       "52          3\n",
       "29          3\n",
       "39          3\n",
       "98          3\n",
       "58          2\n",
       "41          2\n",
       "63          2\n",
       "66          1\n",
       "82          1\n",
       "47          1\n",
       "64          1\n",
       "31          1\n",
       "55          1\n",
       "46          1\n",
       "37          1\n",
       "Name: p7f_horas, Length: 64, dtype: int64"
      ]
     },
     "execution_count": 80,
     "metadata": {},
     "output_type": "execute_result"
    }
   ],
   "source": [
    "t1_ENOE['p7f_horas'].value_counts()#Número de horas trabajadas\n",
    "#01-97 Número de horas dedicadas a su segundo trabajo \n",
    "#98 / 98 horas y más\n",
    "#9 No sabe el total de horas "
   ]
  },
  {
   "cell_type": "markdown",
   "metadata": {},
   "source": [
    "# Pregunta 7g: Aproximadamente ¿Cuánto gana ... al mes en su segundo trabajo? Pregunta de opción múltiple, respuestas en p7g1 a p7g3 y p7g9, p7gcan"
   ]
  },
  {
   "cell_type": "code",
   "execution_count": 81,
   "metadata": {},
   "outputs": [
    {
     "data": {
      "text/plain": [
       "9    1246787\n",
       "1       6630\n",
       "Name: p7g1, dtype: int64"
      ]
     },
     "execution_count": 81,
     "metadata": {},
     "output_type": "execute_result"
    }
   ],
   "source": [
    "t1_ENOE['p7g1'].value_counts()# 1-en efectivo 9-no aplica"
   ]
  },
  {
   "cell_type": "code",
   "execution_count": 82,
   "metadata": {},
   "outputs": [
    {
     "data": {
      "text/plain": [
       "9    1253400\n",
       "2         17\n",
       "Name: p7g2, dtype: int64"
      ]
     },
     "execution_count": 82,
     "metadata": {},
     "output_type": "execute_result"
    }
   ],
   "source": [
    "t1_ENOE['p7g2'].value_counts()# 2-en especie 9-no aplica"
   ]
  },
  {
   "cell_type": "code",
   "execution_count": 83,
   "metadata": {},
   "outputs": [
    {
     "data": {
      "text/plain": [
       "9    1251590\n",
       "3       1827\n",
       "Name: p7g3, dtype: int64"
      ]
     },
     "execution_count": 83,
     "metadata": {},
     "output_type": "execute_result"
    }
   ],
   "source": [
    "t1_ENOE['p7g3'].value_counts()# 3-no le pagan ni recibe ingresos (incluye autoconsumo agropecuario) 9-no aplica"
   ]
  },
  {
   "cell_type": "code",
   "execution_count": 84,
   "metadata": {},
   "outputs": [
    {
     "data": {
      "text/plain": [
       "9    1253417\n",
       "Name: p7g9, dtype: int64"
      ]
     },
     "execution_count": 84,
     "metadata": {},
     "output_type": "execute_result"
    }
   ],
   "source": [
    "t1_ENOE['p7g9'].value_counts()# 9-No sabe  "
   ]
  },
  {
   "cell_type": "code",
   "execution_count": 85,
   "metadata": {},
   "outputs": [
    {
     "data": {
      "text/plain": [
       "9        1246772\n",
       "2000         595\n",
       "1000         551\n",
       "3000         372\n",
       "800          329\n",
       "1200         318\n",
       "4000         313\n",
       "500          289\n",
       "600          246\n",
       "1500         230\n",
       "400          217\n",
       "300          189\n",
       "5000         183\n",
       "6000         152\n",
       "1600         146\n",
       "200          134\n",
       "10000        127\n",
       "2400         111\n",
       "8000         108\n",
       "2500         108\n",
       "3200          78\n",
       "1290          78\n",
       "860           69\n",
       "1800          68\n",
       "7000          60\n",
       "2800          59\n",
       "900           54\n",
       "700           53\n",
       "100           51\n",
       "4300          49\n",
       "          ...   \n",
       "2258           1\n",
       "220            1\n",
       "225            1\n",
       "4320           1\n",
       "1872           1\n",
       "840            1\n",
       "1860           1\n",
       "10500          1\n",
       "9030           1\n",
       "260            1\n",
       "3336           1\n",
       "834            1\n",
       "2322           1\n",
       "2640           1\n",
       "9500           1\n",
       "4380           1\n",
       "301            1\n",
       "17200          1\n",
       "1842           1\n",
       "1333           1\n",
       "2360           1\n",
       "313            1\n",
       "2840           1\n",
       "322            1\n",
       "325            1\n",
       "10003          1\n",
       "340            1\n",
       "5900           1\n",
       "1380           1\n",
       "21500          1\n",
       "Name: p7gcan, Length: 276, dtype: int64"
      ]
     },
     "execution_count": 85,
     "metadata": {},
     "output_type": "execute_result"
    }
   ],
   "source": [
    "t1_ENOE['p7gcan'].value_counts()#Cantidad en pesos 9-no aplica"
   ]
  },
  {
   "cell_type": "markdown",
   "metadata": {},
   "source": [
    "# Pregunta 8: Durante los últimos tres meses, ¿...a tratado de Pregunta de opción múltiple, respuestas en p8_1 a p8_4 y p8_9"
   ]
  },
  {
   "cell_type": "code",
   "execution_count": 86,
   "metadata": {},
   "outputs": [
    {
     "data": {
      "text/plain": [
       "9    1252705\n",
       "1        712\n",
       "Name: p8_1, dtype: int64"
      ]
     },
     "execution_count": 86,
     "metadata": {},
     "output_type": "execute_result"
    }
   ],
   "source": [
    "t1_ENOE['p8_1'].value_counts()#buscar otro trabajo en otro país o hacer preparativos para cruzar la frontera? \n",
    "#1-si 9-no aplica"
   ]
  },
  {
   "cell_type": "code",
   "execution_count": 87,
   "metadata": {},
   "outputs": [
    {
     "data": {
      "text/plain": [
       "9    1224935\n",
       "2      28482\n",
       "Name: p8_2, dtype: int64"
      ]
     },
     "execution_count": 87,
     "metadata": {},
     "output_type": "execute_result"
    }
   ],
   "source": [
    "t1_ENOE['p8_2'].value_counts()#buscar otro trabajo aquí en el país?\n",
    "#2-si 9-no aplica"
   ]
  },
  {
   "cell_type": "code",
   "execution_count": 88,
   "metadata": {},
   "outputs": [
    {
     "data": {
      "text/plain": [
       "9    1251987\n",
       "3       1430\n",
       "Name: p8_3, dtype: int64"
      ]
     },
     "execution_count": 88,
     "metadata": {},
     "output_type": "execute_result"
    }
   ],
   "source": [
    "t1_ENOE['p8_3'].value_counts()#poner un negocio o realizar una actividad por su cuenta, sin poder todavía comenzar?\n",
    "#3-si 9-no aplica"
   ]
  },
  {
   "cell_type": "code",
   "execution_count": 89,
   "metadata": {},
   "outputs": [
    {
     "data": {
      "text/plain": [
       "4    645932\n",
       "9    607485\n",
       "Name: p8_4, dtype: int64"
      ]
     },
     "execution_count": 89,
     "metadata": {},
     "output_type": "execute_result"
    }
   ],
   "source": [
    "t1_ENOE['p8_4'].value_counts()#Entonces, ¿no ha tratado de buscar otro trabajo?\n",
    "#4-si 9-no aplica"
   ]
  },
  {
   "cell_type": "code",
   "execution_count": 90,
   "metadata": {},
   "outputs": [
    {
     "data": {
      "text/plain": [
       "9    1253417\n",
       "Name: p8_9, dtype: int64"
      ]
     },
     "execution_count": 90,
     "metadata": {},
     "output_type": "execute_result"
    }
   ],
   "source": [
    "t1_ENOE['p8_9'].value_counts()# 9 No sabe\n"
   ]
  },
  {
   "cell_type": "markdown",
   "metadata": {},
   "source": [
    "# Pregunta 8a: Lo que ... intenta ¿es (respuesta en p8a)"
   ]
  },
  {
   "cell_type": "code",
   "execution_count": 91,
   "metadata": {},
   "outputs": [
    {
     "data": {
      "text/plain": [
       "9    1223036\n",
       "3       9747\n",
       "2       7631\n",
       "1       6790\n",
       "4       6213\n",
       "Name: p8a, dtype: int64"
      ]
     },
     "execution_count": 91,
     "metadata": {},
     "output_type": "execute_result"
    }
   ],
   "source": [
    "t1_ENOE['p8a'].value_counts()\n",
    "#1 tener más de un trabajo? \n",
    "#2 tener un trabajo de tiempo completo?\n",
    "#3 conseguir una actividad en la que pueda trabajar más horas para ganar más?\n",
    "#4 Ninguna de las anteriores \n",
    "#9 No sabe / no aplica"
   ]
  },
  {
   "cell_type": "markdown",
   "metadata": {},
   "source": [
    "# Pregunta 8b: ¿Cuál es el motivo principal por el que.. .está buscando otro trabajo? (respuesta en p8b)"
   ]
  },
  {
   "cell_type": "code",
   "execution_count": 92,
   "metadata": {},
   "outputs": [
    {
     "data": {
      "text/plain": [
       "9     1251534\n",
       "2         784\n",
       "3         603\n",
       "4         148\n",
       "5         140\n",
       "1          93\n",
       "6          39\n",
       "8          38\n",
       "7          36\n",
       "99          2\n",
       "Name: p8b, dtype: int64"
      ]
     },
     "execution_count": 92,
     "metadata": {},
     "output_type": "execute_result"
    }
   ],
   "source": [
    "t1_ENOE['p8b'].value_counts()\n",
    "#01 Teme quedarse sin su actual trabajo, que haya recorte de personal o está por terminar su contrato\n",
    "#02 Mejorar sus ingresos tra- bajando la misma jornada\n",
    "#03 Mejorar sus condiciones de trabajo (horario, presta- ciones laborales, ambiente de trabajo)\n",
    "#04 Contar con seguridad social (IMSS o ISSSTE)\n",
    "#05 Tener un trabajo acorde a su escolaridad, experiencia o capacitación\n",
    "#06 Tener un trabajo independiente\n",
    "#07 Tener tiempo para atender o convivir con su familia\n",
    "#08 Tener tiempo para estudiar o realizar otras actividades\n",
    "#09 Ninguno de los anteriores / No sabe "
   ]
  },
  {
   "cell_type": "markdown",
   "metadata": {},
   "source": [
    "# Pregunta 9: Alguna vez ... se  quedó sin trabajo o negocio y tuvo que buscar otro? (respuesta en p9)"
   ]
  },
  {
   "cell_type": "code",
   "execution_count": 93,
   "metadata": {},
   "outputs": [
    {
     "data": {
      "text/plain": [
       "9    1086553\n",
       "2     114988\n",
       "1      51876\n",
       "Name: p9, dtype: int64"
      ]
     },
     "execution_count": 93,
     "metadata": {},
     "output_type": "execute_result"
    }
   ],
   "source": [
    "t1_ENOE['p9'].value_counts()\n",
    "#1 Sí\n",
    "#2 No\n",
    "#9 No sabe / No aplica"
   ]
  },
  {
   "cell_type": "markdown",
   "metadata": {},
   "source": [
    "# Pregunta 9a: La última vez que se quedó sin trabajo ¿cuál era la situación?(respuesta en p9a)"
   ]
  },
  {
   "cell_type": "code",
   "execution_count": 94,
   "metadata": {},
   "outputs": [
    {
     "data": {
      "text/plain": [
       "9    1135968\n",
       "2      55645\n",
       "1      35502\n",
       "4      10969\n",
       "3       7978\n",
       "5       5233\n",
       "6       1252\n",
       "8        820\n",
       "7         50\n",
       "Name: p9a, dtype: int64"
      ]
     },
     "execution_count": 94,
     "metadata": {},
     "output_type": "execute_result"
    }
   ],
   "source": [
    "t1_ENOE['p9a'].value_counts()\n",
    "#1 Perdió o terminó su empleo?\n",
    "#2 ¿Renunció a su empleo?\n",
    "#3 ¿Cerró o dejó un negocio propio?\n",
    "#4 Se pensionó, jubiló o se retiró de su negocio\n",
    "#5 Lo detuvieron, se accidentó o se enfermó por una larga temporada\n",
    "#6 Regresó o lo deportaron de Estados Unidos\n",
    "#7 Un fenómeno natural o siniestro afectó a su fuente de trabajo\n",
    "#8 Ninguna de las anteriores\n",
    "#9 No sabe / No aplica"
   ]
  },
  {
   "cell_type": "markdown",
   "metadata": {},
   "source": [
    "# Pregunta 9b: En esa ocasión, (respuesta en p9b)"
   ]
  },
  {
   "cell_type": "code",
   "execution_count": 95,
   "metadata": {},
   "outputs": [
    {
     "data": {
      "text/plain": [
       "9    1217154\n",
       "2      13477\n",
       "5       7350\n",
       "1       7216\n",
       "4       3394\n",
       "6       3364\n",
       "7       1090\n",
       "3        372\n",
       "Name: p9b, dtype: int64"
      ]
     },
     "execution_count": 95,
     "metadata": {},
     "output_type": "execute_result"
    }
   ],
   "source": [
    "t1_ENOE['p9b'].value_counts()\n",
    "#1 la fuente de empleo cerró o quebró\n",
    "#2 hubo recorte de personal\n",
    "#3 la empresa se cambió de ciudad o de país\n",
    "#4 no le renovaron su contrato\n",
    "#5 no lo volvieron a llamar\n",
    "#6 lo despidieron\n",
    "#7 Ninguna de las anteriores\n",
    "#9 No sabe / No aplica"
   ]
  },
  {
   "cell_type": "markdown",
   "metadata": {},
   "source": [
    "# Pregunta 9c: ¿Cuál fue el motivo principal? (respuesta en p9c)"
   ]
  },
  {
   "cell_type": "code",
   "execution_count": 96,
   "metadata": {},
   "outputs": [
    {
     "data": {
      "text/plain": [
       "9     1239433\n",
       "4       11459\n",
       "2         678\n",
       "10        559\n",
       "8         301\n",
       "7         301\n",
       "1         267\n",
       "5         227\n",
       "99        129\n",
       "3          51\n",
       "6          12\n",
       "Name: p9c, dtype: int64"
      ]
     },
     "execution_count": 96,
     "metadata": {},
     "output_type": "execute_result"
    }
   ],
   "source": [
    "t1_ENOE['p9c'].value_counts()\n",
    "#01 Conflicto laboral y/o sindical\n",
    "#02 Conflicto con su jefe o superior\n",
    "#03 Falta de calificación o capacitación\n",
    "#04 Ya no hubo más trabajo\n",
    "#05 Incumplimiento con la empresa\n",
    "#06 Discriminación por su aspecto físico\n",
    "#07 La edad (joven o viejo)\n",
    "#08 Enfermedad o discapacidad\n",
    "#09 Embarazo y/o responsabilidades maternas\n",
    "#10 Ninguno de los anteriores"
   ]
  },
  {
   "cell_type": "markdown",
   "metadata": {},
   "source": [
    "# Pregunta 9d: ¿Cuál fue el motivo principal para separarse de ese trabajo?(respuesta en p9d)"
   ]
  },
  {
   "cell_type": "code",
   "execution_count": 97,
   "metadata": {},
   "outputs": [
    {
     "data": {
      "text/plain": [
       "9     1218444\n",
       "1        9589\n",
       "12       7004\n",
       "11       5429\n",
       "3        5051\n",
       "2        2796\n",
       "8        1747\n",
       "10       1535\n",
       "4         571\n",
       "99        368\n",
       "7         336\n",
       "6         317\n",
       "5         230\n",
       "Name: p9d, dtype: int64"
      ]
     },
     "execution_count": 97,
     "metadata": {},
     "output_type": "execute_result"
    }
   ],
   "source": [
    "t1_ENOE['p9d'].value_counts()\n",
    "#01 Quería ganar más\n",
    "#02 Quería independizarse\n",
    "#03 Cambio o deterioro en las condiciones de trabajo (prestaciones, ingresos y/o jornadas)\n",
    "#04 El trabajo era riesgoso y/o insalubre\n",
    "#05 Lo forzaron a renunciar o a pensionarse\n",
    "#06 Falta de oportunidades para superarse\n",
    "#07 Acoso o falta de respeto a su persona\n",
    "#08 Conflicto con su jefe o superior\n",
    "#09 Matrimonio, embarazo y/o responsabilidades familiares\n",
    "#10 Un familiar le impidió seguir trabajando\n",
    "#11 Quería seguir estudiando \n",
    "#12 Ninguno de los anteriores \n",
    "\n"
   ]
  },
  {
   "cell_type": "markdown",
   "metadata": {},
   "source": [
    "# Pregunta 9e: ¿Cuál fue el motivo principal por el que se vio obligado a dejar ese negocio o actividad por su cuenta? (respuesta en p9e)"
   ]
  },
  {
   "cell_type": "code",
   "execution_count": 98,
   "metadata": {},
   "outputs": [
    {
     "data": {
      "text/plain": [
       "9     1245619\n",
       "14       2343\n",
       "3        2171\n",
       "4         987\n",
       "11        964\n",
       "12        398\n",
       "1         240\n",
       "5         205\n",
       "6         149\n",
       "2         125\n",
       "13         93\n",
       "10         53\n",
       "99         37\n",
       "7          21\n",
       "8          12\n",
       "Name: p9e, dtype: int64"
      ]
     },
     "execution_count": 98,
     "metadata": {},
     "output_type": "execute_result"
    }
   ],
   "source": [
    "t1_ENOE['p9e'].value_counts()\n",
    "#01 Exceso de deudas o se declaró en quiebra\n",
    "#02 Aumento de los precios de los insumos o la renta del local\n",
    "#03 Bajaron las ventas, exceso de competencia\n",
    "#04 El negocio resultó menos rentable de lo esperado \n",
    "#05 Incumplimiento de los clientes (exceso de cuentas por cobrar)\n",
    "#06 Falta de crédito para seguir operando\n",
    "#07 Falta de personal adecuado ausentismo o exceso de rotación \n",
    "#08Incumplimiento de los proveedores\n",
    "#09 Problemas de inseguridad pública\n",
    "#10 Problemas con las autoridades (extorsión, multa)\n",
    "#11 Matrimonio, embarazo y/o responsabilidades familiares\n",
    "#12 Un familiar le impidió seguir trabajando\n",
    "#13 Quería seguir estudiando \n",
    "#14 Ninguno de los anteriores \n"
   ]
  },
  {
   "cell_type": "markdown",
   "metadata": {},
   "source": [
    "# Pregunta 9f_anio: ¿En qué año terminó (o suspendió) ese trabajo u oficio?(respuesta en p9f_anio)"
   ]
  },
  {
   "cell_type": "code",
   "execution_count": 99,
   "metadata": {},
   "outputs": [
    {
     "data": {
      "text/plain": [
       "9       1131371\n",
       "2013      28444\n",
       "2012      15870\n",
       "2011       9138\n",
       "2010       8509\n",
       "2014       7365\n",
       "2009       6099\n",
       "2008       5435\n",
       "2007       3771\n",
       "2004       3471\n",
       "2003       3137\n",
       "2006       3109\n",
       "2005       2812\n",
       "2000       2766\n",
       "1998       1928\n",
       "2002       1874\n",
       "1999       1781\n",
       "1994       1543\n",
       "1993       1541\n",
       "2001       1416\n",
       "1990        987\n",
       "1997        976\n",
       "1995        933\n",
       "1996        828\n",
       "1992        677\n",
       "1984        587\n",
       "1988        569\n",
       "1983        568\n",
       "1989        520\n",
       "1991        464\n",
       "         ...   \n",
       "1971         85\n",
       "1965         69\n",
       "1966         67\n",
       "1967         59\n",
       "1962         53\n",
       "1959         41\n",
       "1958         38\n",
       "1953         36\n",
       "1961         32\n",
       "1955         30\n",
       "1954         29\n",
       "1950         27\n",
       "1957         26\n",
       "1956         25\n",
       "1952         15\n",
       "1948         12\n",
       "1951         10\n",
       "1944          8\n",
       "1945          7\n",
       "1947          6\n",
       "1943          5\n",
       "1949          4\n",
       "1938          4\n",
       "1939          2\n",
       "1930          2\n",
       "1942          2\n",
       "1941          1\n",
       "1940          1\n",
       "1937          1\n",
       "1935          1\n",
       "Name: p9f_anio, Length: 81, dtype: int64"
      ]
     },
     "execution_count": 99,
     "metadata": {},
     "output_type": "execute_result"
    }
   ],
   "source": [
    "t1_ENOE['p9f_anio'].value_counts()\n",
    "#1900-actual Año que terminó trabajo \n",
    "#9 No sabe año que terminó trabajo  "
   ]
  },
  {
   "cell_type": "markdown",
   "metadata": {},
   "source": [
    "# Pregunta 9f_mes: Mes en que terminó (o suspendió) ese trabajo u oficio (respuesta en p9f_mes)"
   ]
  },
  {
   "cell_type": "code",
   "execution_count": 100,
   "metadata": {},
   "outputs": [
    {
     "data": {
      "text/plain": [
       "9     1219389\n",
       "12       7908\n",
       "1        5598\n",
       "11       4083\n",
       "2        3366\n",
       "10       2837\n",
       "8        2664\n",
       "6        1878\n",
       "7        1795\n",
       "3        1370\n",
       "5        1153\n",
       "4         862\n",
       "99        514\n",
       "Name: p9f_mes, dtype: int64"
      ]
     },
     "execution_count": 100,
     "metadata": {},
     "output_type": "execute_result"
    }
   ],
   "source": [
    "t1_ENOE['p9f_mes'].value_counts()\n",
    "#01 Enero\n",
    "#02 Febrero \n",
    "#03 Marzo\n",
    "#04 Abril\n",
    "#05 Mayo\n",
    "#06 Junio\n",
    "#07 Julio\n",
    "#08 Agosto\n",
    "#09 Septiembre\n",
    "#10 Octubre\n",
    "#11 Noviembre\n",
    "#12 Diciembre\n"
   ]
  },
  {
   "cell_type": "markdown",
   "metadata": {},
   "source": [
    "# Pregunta 9f: Clasificación del año y mes (respuesta en p9f)"
   ]
  },
  {
   "cell_type": "code",
   "execution_count": 101,
   "metadata": {},
   "outputs": [
    {
     "data": {
      "text/plain": [
       "9    1131669\n",
       "3      85739\n",
       "2      27737\n",
       "1       8272\n",
       "Name: p9f, dtype: int64"
      ]
     },
     "execution_count": 101,
     "metadata": {},
     "output_type": "execute_result"
    }
   ],
   "source": [
    "t1_ENOE['p9f'].value_counts()\n",
    "#1 El año en curso\n",
    "#2 El año pasado\n",
    "#3 Antes del año pasado \n",
    "#9 No sabe\n"
   ]
  },
  {
   "cell_type": "markdown",
   "metadata": {},
   "source": [
    "# Pregunta 9g: ¿Cuáles eran las tareas o funciones principales que desempeñaba en ese trabajo? (respuesta en p9g)"
   ]
  },
  {
   "cell_type": "code",
   "execution_count": 102,
   "metadata": {},
   "outputs": [
    {
     "data": {
      "text/plain": [
       "9       1217408\n",
       "4211       2776\n",
       "9221       2047\n",
       "9111       1869\n",
       "9611       1711\n",
       "7121       1258\n",
       "4111        883\n",
       "5116        803\n",
       "6111        801\n",
       "9621        767\n",
       "3121        756\n",
       "5313        659\n",
       "8341        594\n",
       "7513        530\n",
       "9231        520\n",
       "8342        509\n",
       "9411        506\n",
       "5114        498\n",
       "3115        437\n",
       "5111        407\n",
       "9521        382\n",
       "3132        381\n",
       "8212        364\n",
       "9512        359\n",
       "3111        341\n",
       "6112        329\n",
       "4221        322\n",
       "4224        290\n",
       "6114        280\n",
       "5222        270\n",
       "         ...   \n",
       "8331          1\n",
       "7614          1\n",
       "6119          1\n",
       "2161          1\n",
       "6128          1\n",
       "2541          1\n",
       "1134          1\n",
       "5231          1\n",
       "2151          1\n",
       "2422          1\n",
       "2343          1\n",
       "4999          1\n",
       "1613          1\n",
       "6222          1\n",
       "2211          1\n",
       "8322          1\n",
       "5251          1\n",
       "1619          1\n",
       "6231          1\n",
       "2281          1\n",
       "5401          1\n",
       "5412          1\n",
       "1111          1\n",
       "6999          1\n",
       "1312          1\n",
       "1313          1\n",
       "2339          1\n",
       "7323          1\n",
       "8134          1\n",
       "1132          1\n",
       "Name: p9g, Length: 429, dtype: int64"
      ]
     },
     "execution_count": 102,
     "metadata": {},
     "output_type": "execute_result"
    }
   ],
   "source": [
    "t1_ENOE['p9g'].value_counts() #“Ver Catálogo de Código CMO en pregunta 7A hasta el periodo 212 Ver Catálogo de Código SINCO en pregunta 7A a partir del periodo 312”\n",
    "#9 no aplica"
   ]
  },
  {
   "cell_type": "markdown",
   "metadata": {},
   "source": [
    "# Pregunta 9h: ¿Cuál es el nombre de la empresa, negocio o institución para la que realizaba ese trabajo? (respuesta en p9h)"
   ]
  },
  {
   "cell_type": "code",
   "execution_count": 103,
   "metadata": {},
   "outputs": [
    {
     "data": {
      "text/plain": [
       "9    1217494\n",
       "1      20244\n",
       "2      12972\n",
       "3       2374\n",
       "4        333\n",
       "Name: p9h, dtype: int64"
      ]
     },
     "execution_count": 103,
     "metadata": {},
     "output_type": "execute_result"
    }
   ],
   "source": [
    "t1_ENOE['p9h'].value_counts()\n",
    "#1 Nombre de la empresa \n",
    "#2 El negocio no tiene nombre o razón social \n",
    "#3 Fue trabajador (subordinado) de una unidad doméstica o trabajador(a) de otro trabajador(a)\n",
    "#4 Fue trabajador(a) en el extranjero\n",
    "#9 No sabe / No aplica"
   ]
  },
  {
   "cell_type": "markdown",
   "metadata": {},
   "source": [
    "# Pregunta 9h_1: Campo exclusivo del sistema"
   ]
  },
  {
   "cell_type": "code",
   "execution_count": 104,
   "metadata": {},
   "outputs": [
    {
     "data": {
      "text/plain": [
       "9    1233173\n",
       "2      20244\n",
       "Name: p9h_1, dtype: int64"
      ]
     },
     "execution_count": 104,
     "metadata": {},
     "output_type": "execute_result"
    }
   ],
   "source": [
    "t1_ENOE['p9h_1'].value_counts() # 9, 2 Campo exclusivo del sistema"
   ]
  },
  {
   "cell_type": "markdown",
   "metadata": {},
   "source": [
    "# Pregunta 9i: ¿A que se dedica o  dedicaba la empresa, negocio o institución donde trabajaba?(respuesta en p9i)"
   ]
  },
  {
   "cell_type": "code",
   "execution_count": 105,
   "metadata": {},
   "outputs": [
    {
     "data": {
      "text/plain": [
       "9       1217408\n",
       "1110       3530\n",
       "7221       2911\n",
       "8140       2135\n",
       "2382       2085\n",
       "2361       1696\n",
       "4611       1206\n",
       "3110       1187\n",
       "4620       1146\n",
       "4631        906\n",
       "8111        685\n",
       "3360        642\n",
       "3150        553\n",
       "5611        541\n",
       "4850        539\n",
       "5411        537\n",
       "7210        499\n",
       "8121        487\n",
       "4661        480\n",
       "4651        477\n",
       "2370        455\n",
       "4310        450\n",
       "6112        423\n",
       "5614        415\n",
       "3320        404\n",
       "9314        397\n",
       "4681        395\n",
       "3160        394\n",
       "9313        346\n",
       "8112        346\n",
       "         ...   \n",
       "9311          7\n",
       "4820          7\n",
       "4370          7\n",
       "4830          6\n",
       "9999          6\n",
       "6121          4\n",
       "2121          4\n",
       "5190          3\n",
       "5180          3\n",
       "8125          3\n",
       "6122          3\n",
       "5321          3\n",
       "6232          3\n",
       "4699          3\n",
       "6150          2\n",
       "2399          2\n",
       "5612          2\n",
       "5223          2\n",
       "4860          2\n",
       "1142          2\n",
       "5210          2\n",
       "8124          2\n",
       "4682          2\n",
       "2222          1\n",
       "7115          1\n",
       "3399          1\n",
       "4399          1\n",
       "4910          1\n",
       "6139          1\n",
       "9320          1\n",
       "Name: p9i, Length: 158, dtype: int64"
      ]
     },
     "execution_count": 105,
     "metadata": {},
     "output_type": "execute_result"
    }
   ],
   "source": [
    "t1_ENOE['p9i'].value_counts() #Consultar Código SCIAN"
   ]
  },
  {
   "cell_type": "markdown",
   "metadata": {},
   "source": [
    "# Pregunta 9j: Sólo para el entrevistador (respuesta en p9j)"
   ]
  },
  {
   "cell_type": "code",
   "execution_count": 106,
   "metadata": {},
   "outputs": [
    {
     "data": {
      "text/plain": [
       "9    1220124\n",
       "2      31244\n",
       "1       2049\n",
       "Name: p9j, dtype: int64"
      ]
     },
     "execution_count": 106,
     "metadata": {},
     "output_type": "execute_result"
    }
   ],
   "source": [
    "t1_ENOE['p9j'].value_counts()\n",
    "#1 Sector público\n",
    "#2 Sector privado\n",
    "#9 No sabe / No aplica"
   ]
  },
  {
   "cell_type": "markdown",
   "metadata": {},
   "source": [
    "# Pregunta 9k: Por parte de ese trabajo, ¿... tenía acceso a atención médica en (respuesta en p9k)"
   ]
  },
  {
   "cell_type": "code",
   "execution_count": 107,
   "metadata": {},
   "outputs": [
    {
     "data": {
      "text/plain": [
       "9    1220203\n",
       "6      22186\n",
       "1      10319\n",
       "3        450\n",
       "4        101\n",
       "5         94\n",
       "2         64\n",
       "Name: p9k, dtype: int64"
      ]
     },
     "execution_count": 107,
     "metadata": {},
     "output_type": "execute_result"
    }
   ],
   "source": [
    "t1_ENOE['p9k'].value_counts()\n",
    "#1 el Seguro Social (IMSS)?\n",
    "#2 hospital o clínica naval, militar o de Pemex? \n",
    "#3 el ISSSTE?\n",
    "#4 el ISSSTE estatal (ISSSTELEÓN, ISSEMYM)?\n",
    "#5 otra institución médica? \n",
    "#6 No recibía atención médica\n",
    "#9 No sabe / No aplica"
   ]
  },
  {
   "cell_type": "markdown",
   "metadata": {},
   "source": [
    "# Pregunta 9L: En este trabajo, ¿a ... le daban (Pregunta de opción múltiple, respuestas en p9l1 a p9l5 y p9l9)"
   ]
  },
  {
   "cell_type": "code",
   "execution_count": 108,
   "metadata": {},
   "outputs": [
    {
     "data": {
      "text/plain": [
       "9    1242503\n",
       "1      10914\n",
       "Name: p9l1, dtype: int64"
      ]
     },
     "execution_count": 108,
     "metadata": {},
     "output_type": "execute_result"
    }
   ],
   "source": [
    "t1_ENOE['p9l1'].value_counts()#aguinaldo? \n",
    "#1-si 9-no aplica"
   ]
  },
  {
   "cell_type": "code",
   "execution_count": 109,
   "metadata": {},
   "outputs": [
    {
     "data": {
      "text/plain": [
       "9    1244405\n",
       "2       9012\n",
       "Name: p9l2, dtype: int64"
      ]
     },
     "execution_count": 109,
     "metadata": {},
     "output_type": "execute_result"
    }
   ],
   "source": [
    "t1_ENOE['p9l2'].value_counts()#vacaciones con goce de sueldo?\n",
    "#2-si 9-no aplica"
   ]
  },
  {
   "cell_type": "code",
   "execution_count": 110,
   "metadata": {},
   "outputs": [
    {
     "data": {
      "text/plain": [
       "9    1250044\n",
       "3       3373\n",
       "Name: p9l3, dtype: int64"
      ]
     },
     "execution_count": 110,
     "metadata": {},
     "output_type": "execute_result"
    }
   ],
   "source": [
    "t1_ENOE['p9l3'].value_counts()#reparto de utilidades?\n",
    "#3-si 9-no aplica"
   ]
  },
  {
   "cell_type": "code",
   "execution_count": 111,
   "metadata": {},
   "outputs": [
    {
     "data": {
      "text/plain": [
       "9    1252211\n",
       "4       1206\n",
       "Name: p9l4, dtype: int64"
      ]
     },
     "execution_count": 111,
     "metadata": {},
     "output_type": "execute_result"
    }
   ],
   "source": [
    "t1_ENOE['p9l4'].value_counts()#ninguna de las anteriores\n",
    "#4-si 9-no aplica"
   ]
  },
  {
   "cell_type": "code",
   "execution_count": 112,
   "metadata": {},
   "outputs": [
    {
     "data": {
      "text/plain": [
       "9    1232691\n",
       "5      20726\n",
       "Name: p9l5, dtype: int64"
      ]
     },
     "execution_count": 112,
     "metadata": {},
     "output_type": "execute_result"
    }
   ],
   "source": [
    "t1_ENOE['p9l5'].value_counts()#no le daban nada\n",
    "#5-si 9-no aplica"
   ]
  },
  {
   "cell_type": "code",
   "execution_count": 113,
   "metadata": {},
   "outputs": [
    {
     "data": {
      "text/plain": [
       "9    1253417\n",
       "Name: p9l9, dtype: int64"
      ]
     },
     "execution_count": 113,
     "metadata": {},
     "output_type": "execute_result"
    }
   ],
   "source": [
    "t1_ENOE['p9l9'].value_counts()# 9 no sabe / no aplica"
   ]
  },
  {
   "cell_type": "code",
   "execution_count": 163,
   "metadata": {},
   "outputs": [],
   "source": [
    "t1_ENOE.drop('p9l9',axis = 1,inplace = True)"
   ]
  },
  {
   "cell_type": "markdown",
   "metadata": {},
   "source": [
    "# Pregunta 9M: Aproximadamente ¿Cuánto ganaba al mes en ese trabajo? Pregunta de opción múltiple, respuestas en p9m1 a p9m3 y p9m9, p9mcan"
   ]
  },
  {
   "cell_type": "code",
   "execution_count": 114,
   "metadata": {},
   "outputs": [
    {
     "data": {
      "text/plain": [
       "9    1225427\n",
       "1      27990\n",
       "Name: p9m1, dtype: int64"
      ]
     },
     "execution_count": 114,
     "metadata": {},
     "output_type": "execute_result"
    }
   ],
   "source": [
    "t1_ENOE['p9m1'].value_counts()#en efectivo\n",
    "#1-si 9-no aplica"
   ]
  },
  {
   "cell_type": "code",
   "execution_count": 115,
   "metadata": {},
   "outputs": [
    {
     "data": {
      "text/plain": [
       "9    1253339\n",
       "2         78\n",
       "Name: p9m2, dtype: int64"
      ]
     },
     "execution_count": 115,
     "metadata": {},
     "output_type": "execute_result"
    }
   ],
   "source": [
    "t1_ENOE['p9m2'].value_counts()#en especie\n",
    "#2-si 9-no aplica"
   ]
  },
  {
   "cell_type": "code",
   "execution_count": 116,
   "metadata": {},
   "outputs": [
    {
     "data": {
      "text/plain": [
       "9    1251686\n",
       "3       1731\n",
       "Name: p9m3, dtype: int64"
      ]
     },
     "execution_count": 116,
     "metadata": {},
     "output_type": "execute_result"
    }
   ],
   "source": [
    "t1_ENOE['p9m3'].value_counts()#no recibía ingresos\n",
    "#3-si 9-no aplica"
   ]
  },
  {
   "cell_type": "code",
   "execution_count": 117,
   "metadata": {},
   "outputs": [
    {
     "data": {
      "text/plain": [
       "9    1253417\n",
       "Name: p9m9, dtype: int64"
      ]
     },
     "execution_count": 117,
     "metadata": {},
     "output_type": "execute_result"
    }
   ],
   "source": [
    "t1_ENOE['p9m9'].value_counts()#no sabe\n",
    "#9-si 9-no aplica"
   ]
  },
  {
   "cell_type": "code",
   "execution_count": 118,
   "metadata": {},
   "outputs": [],
   "source": [
    "t1_ENOE.drop('p9m9',axis = 1,inplace = True)"
   ]
  },
  {
   "cell_type": "code",
   "execution_count": 119,
   "metadata": {},
   "outputs": [
    {
     "data": {
      "text/plain": [
       "9         1225393\n",
       "4000         2689\n",
       "2000         1890\n",
       "3000         1741\n",
       "3200         1398\n",
       "2400         1356\n",
       "6000         1317\n",
       "2800         1196\n",
       "3600         1060\n",
       "5000          936\n",
       "4800          851\n",
       "8000          687\n",
       "1000          617\n",
       "1200          554\n",
       "1500          428\n",
       "10000         393\n",
       "2500          390\n",
       "1600          389\n",
       "800           365\n",
       "7000          320\n",
       "4300          318\n",
       "3500          294\n",
       "4400          291\n",
       "500           284\n",
       "4500          282\n",
       "2580          258\n",
       "3870          236\n",
       "600           236\n",
       "5160          234\n",
       "2600          227\n",
       "           ...   \n",
       "640             1\n",
       "18060           1\n",
       "3720            1\n",
       "100000          1\n",
       "3730            1\n",
       "3741            1\n",
       "2625            1\n",
       "1591            1\n",
       "9675            1\n",
       "4660            1\n",
       "1502            1\n",
       "3550            1\n",
       "2040            1\n",
       "9700            1\n",
       "490             1\n",
       "4590            1\n",
       "3569            1\n",
       "32250           1\n",
       "520             1\n",
       "524             1\n",
       "7700            1\n",
       "1560            1\n",
       "540             1\n",
       "2590            1\n",
       "4640            1\n",
       "546             1\n",
       "40500           1\n",
       "1580            1\n",
       "559             1\n",
       "2048            1\n",
       "Name: p9mcan, Length: 597, dtype: int64"
      ]
     },
     "execution_count": 119,
     "metadata": {},
     "output_type": "execute_result"
    }
   ],
   "source": [
    "t1_ENOE['p9mcan'].value_counts()#cantidad en pesos\n",
    "#9 No aplica"
   ]
  },
  {
   "cell_type": "markdown",
   "metadata": {},
   "source": [
    "# Pregunta 9N: Actualmente ¿... recibe o cuenta con algún ingreso derivado de (Pregunta de opción múltiple, respuestas en p9n1 a p9n5 y p9n9)"
   ]
  },
  {
   "cell_type": "code",
   "execution_count": 120,
   "metadata": {},
   "outputs": [
    {
     "data": {
      "text/plain": [
       "9    1252397\n",
       "1       1020\n",
       "Name: p9n1, dtype: int64"
      ]
     },
     "execution_count": 120,
     "metadata": {},
     "output_type": "execute_result"
    }
   ],
   "source": [
    "t1_ENOE['p9n1'].value_counts()#liquidación o indemnización de un empleo?\n",
    "#1-si 9-no aplica"
   ]
  },
  {
   "cell_type": "code",
   "execution_count": 121,
   "metadata": {},
   "outputs": [
    {
     "data": {
      "text/plain": [
       "9    1253299\n",
       "2        118\n",
       "Name: p9n2, dtype: int64"
      ]
     },
     "execution_count": 121,
     "metadata": {},
     "output_type": "execute_result"
    }
   ],
   "source": [
    "t1_ENOE['p9n2'].value_counts()#la venta, traspaso o liquidación de un negocio?\n",
    "#2-si 9-no aplica"
   ]
  },
  {
   "cell_type": "code",
   "execution_count": 122,
   "metadata": {},
   "outputs": [
    {
     "data": {
      "text/plain": [
       "9    1242062\n",
       "3      11355\n",
       "Name: p9n3, dtype: int64"
      ]
     },
     "execution_count": 122,
     "metadata": {},
     "output_type": "execute_result"
    }
   ],
   "source": [
    "t1_ENOE['p9n3'].value_counts()#pensión o jubilación?\n",
    "#3-si 9-no aplica"
   ]
  },
  {
   "cell_type": "code",
   "execution_count": 123,
   "metadata": {},
   "outputs": [
    {
     "data": {
      "text/plain": [
       "9    1252196\n",
       "4       1221\n",
       "Name: p9n4, dtype: int64"
      ]
     },
     "execution_count": 123,
     "metadata": {},
     "output_type": "execute_result"
    }
   ],
   "source": [
    "t1_ENOE['p9n4'].value_counts()#seguro de desempleo?\n",
    "#4-si 9-no aplica"
   ]
  },
  {
   "cell_type": "code",
   "execution_count": 124,
   "metadata": {},
   "outputs": [
    {
     "data": {
      "text/plain": [
       "9    1253262\n",
       "5        155\n",
       "Name: p9n5, dtype: int64"
      ]
     },
     "execution_count": 124,
     "metadata": {},
     "output_type": "execute_result"
    }
   ],
   "source": [
    "t1_ENOE['p9n5'].value_counts()#seguro de separación individual?\n",
    "#5-si 9-no aplica"
   ]
  },
  {
   "cell_type": "code",
   "execution_count": 125,
   "metadata": {},
   "outputs": [
    {
     "data": {
      "text/plain": [
       "9    1145306\n",
       "6     108111\n",
       "Name: p9n6, dtype: int64"
      ]
     },
     "execution_count": 125,
     "metadata": {},
     "output_type": "execute_result"
    }
   ],
   "source": [
    "t1_ENOE['p9n6'].value_counts()#no cuenta con ningún ingreso derivado de un trabajo anterior\n",
    "#6-si 9-no aplica"
   ]
  },
  {
   "cell_type": "code",
   "execution_count": 126,
   "metadata": {},
   "outputs": [
    {
     "data": {
      "text/plain": [
       "9    1253417\n",
       "Name: p9n9, dtype: int64"
      ]
     },
     "execution_count": 126,
     "metadata": {},
     "output_type": "execute_result"
    }
   ],
   "source": [
    "t1_ENOE['p9n9'].value_counts()#No sabe\n",
    "#9-si 9-no aplica"
   ]
  },
  {
   "cell_type": "code",
   "execution_count": 127,
   "metadata": {},
   "outputs": [],
   "source": [
    "t1_ENOE.drop('p9n9',axis = 1,inplace = True)"
   ]
  },
  {
   "cell_type": "markdown",
   "metadata": {},
   "source": [
    "# Pregunta 9: Durante la semana pasada ¿cuánto tiempo dedicó ... a (Pregunta de opción múltiple, respuestas en p9_1 a p9_8)"
   ]
  },
  {
   "cell_type": "code",
   "execution_count": 128,
   "metadata": {},
   "outputs": [
    {
     "data": {
      "text/plain": [
       "9    1094742\n",
       "1     158675\n",
       "Name: p9_1, dtype: int64"
      ]
     },
     "execution_count": 128,
     "metadata": {},
     "output_type": "execute_result"
    }
   ],
   "source": [
    "t1_ENOE['p9_1'].value_counts()#estudiar o tomar cursos de capacitación? (incluye el tiempo dedicado a realizar trabajos escolares)\n",
    "#1-si 9-no aplica"
   ]
  },
  {
   "cell_type": "code",
   "execution_count": 129,
   "metadata": {},
   "outputs": [
    {
     "data": {
      "text/plain": [
       "9     1095179\n",
       "40      29036\n",
       "35      21172\n",
       "30      14866\n",
       "45      11911\n",
       "50       8742\n",
       "38       6158\n",
       "36       5256\n",
       "42       5205\n",
       "20       4229\n",
       "32       3956\n",
       "25       3679\n",
       "10       3404\n",
       "28       3047\n",
       "60       2042\n",
       "15       1954\n",
       "37       1682\n",
       "5        1644\n",
       "34       1569\n",
       "48       1564\n",
       "6        1517\n",
       "39       1381\n",
       "4        1372\n",
       "46       1307\n",
       "8        1241\n",
       "2        1234\n",
       "3        1225\n",
       "55       1182\n",
       "12       1116\n",
       "21       1064\n",
       "       ...   \n",
       "57         43\n",
       "80         43\n",
       "72         40\n",
       "75         32\n",
       "64         30\n",
       "66         30\n",
       "68         30\n",
       "63         22\n",
       "99         21\n",
       "90         18\n",
       "59         16\n",
       "84         10\n",
       "67         10\n",
       "61          9\n",
       "76          6\n",
       "74          5\n",
       "78          5\n",
       "85          3\n",
       "97          2\n",
       "96          2\n",
       "71          2\n",
       "69          2\n",
       "79          2\n",
       "86          1\n",
       "88          1\n",
       "89          1\n",
       "93          1\n",
       "95          1\n",
       "73          1\n",
       "77          1\n",
       "Name: p9_h1, Length: 93, dtype: int64"
      ]
     },
     "execution_count": 129,
     "metadata": {},
     "output_type": "execute_result"
    }
   ],
   "source": [
    "t1_ENOE['p9_h1'].value_counts()\n",
    "#00-97 Número de horas dedicadas a estudiar\n",
    "#98 Realizó la actividad pero no sabe cuanto tiempo \n",
    "#9 No sabe si realizó la actividad"
   ]
  },
  {
   "cell_type": "code",
   "execution_count": 130,
   "metadata": {},
   "outputs": [
    {
     "data": {
      "text/plain": [
       "9     1094743\n",
       "0      156260\n",
       "30       1939\n",
       "7         111\n",
       "3          92\n",
       "20         56\n",
       "45         45\n",
       "40         38\n",
       "50         35\n",
       "2          34\n",
       "15         24\n",
       "10         15\n",
       "6           5\n",
       "1           4\n",
       "33          2\n",
       "25          2\n",
       "4           2\n",
       "8           2\n",
       "5           1\n",
       "51          1\n",
       "11          1\n",
       "22          1\n",
       "23          1\n",
       "37          1\n",
       "46          1\n",
       "14          1\n",
       "Name: p9_m1, dtype: int64"
      ]
     },
     "execution_count": 130,
     "metadata": {},
     "output_type": "execute_result"
    }
   ],
   "source": [
    "t1_ENOE['p9_m1'].value_counts()\n",
    "#00-59 Número de minutos dedicados a estudiar\n",
    "#9 No aplica"
   ]
  },
  {
   "cell_type": "code",
   "execution_count": 131,
   "metadata": {},
   "outputs": [
    {
     "data": {
      "text/plain": [
       "9    1021293\n",
       "2     232124\n",
       "Name: p9_2, dtype: int64"
      ]
     },
     "execution_count": 131,
     "metadata": {},
     "output_type": "execute_result"
    }
   ],
   "source": [
    "t1_ENOE['p9_2'].value_counts()#cuidar o atender sin pago, de manera exclusiva a niños, ancianos, enfermos o discapacitados? (bañarlos, cambiarlos, trasladarlos)\n",
    "#2-si 9-no aplica"
   ]
  },
  {
   "cell_type": "code",
   "execution_count": 132,
   "metadata": {},
   "outputs": [
    {
     "data": {
      "text/plain": [
       "9     1024169\n",
       "14      24255\n",
       "10      21496\n",
       "7       19980\n",
       "21      19724\n",
       "28      13043\n",
       "2       10583\n",
       "5       10048\n",
       "20       9766\n",
       "3        8544\n",
       "35       8491\n",
       "6        7980\n",
       "12       6751\n",
       "4        6723\n",
       "15       6285\n",
       "30       6048\n",
       "8        5231\n",
       "18       4879\n",
       "42       4316\n",
       "1        3877\n",
       "16       3303\n",
       "40       3242\n",
       "25       3075\n",
       "98       2458\n",
       "24       2215\n",
       "56       2215\n",
       "26       1185\n",
       "36       1123\n",
       "49       1013\n",
       "32        963\n",
       "       ...   \n",
       "47         20\n",
       "57         17\n",
       "51         16\n",
       "53         15\n",
       "90         13\n",
       "62         12\n",
       "97         10\n",
       "77         10\n",
       "69         10\n",
       "68          9\n",
       "66          9\n",
       "59          8\n",
       "74          8\n",
       "99          7\n",
       "78          5\n",
       "82          4\n",
       "71          4\n",
       "67          4\n",
       "87          3\n",
       "61          3\n",
       "91          3\n",
       "96          2\n",
       "75          2\n",
       "79          1\n",
       "81          1\n",
       "76          1\n",
       "88          1\n",
       "92          1\n",
       "94          1\n",
       "86          1\n",
       "Name: p9_h2, Length: 94, dtype: int64"
      ]
     },
     "execution_count": 132,
     "metadata": {},
     "output_type": "execute_result"
    }
   ],
   "source": [
    "t1_ENOE['p9_h2'].value_counts()\n",
    "#00-97 Número de horas dedicadas a cuidar\n",
    "#98 Realizó la actividad pero no sabe cuanto tiempo \n",
    "#9 No sabe si realizó la actividad"
   ]
  },
  {
   "cell_type": "code",
   "execution_count": 133,
   "metadata": {},
   "outputs": [
    {
     "data": {
      "text/plain": [
       "9     1021295\n",
       "0      228611\n",
       "30       2981\n",
       "3         266\n",
       "20         59\n",
       "40         29\n",
       "7          28\n",
       "45         25\n",
       "15         25\n",
       "10         23\n",
       "33         11\n",
       "1           8\n",
       "4           8\n",
       "50          7\n",
       "35          6\n",
       "6           5\n",
       "22          5\n",
       "2           5\n",
       "11          3\n",
       "5           3\n",
       "25          3\n",
       "18          2\n",
       "8           2\n",
       "34          1\n",
       "13          1\n",
       "12          1\n",
       "32          1\n",
       "36          1\n",
       "41          1\n",
       "31          1\n",
       "Name: p9_m2, dtype: int64"
      ]
     },
     "execution_count": 133,
     "metadata": {},
     "output_type": "execute_result"
    }
   ],
   "source": [
    "t1_ENOE['p9_m2'].value_counts()\n",
    "#00-59 Número de minutos dedicados a cuidar\n",
    "#9 No aplica"
   ]
  },
  {
   "cell_type": "code",
   "execution_count": 134,
   "metadata": {},
   "outputs": [
    {
     "data": {
      "text/plain": [
       "9    754799\n",
       "3    498618\n",
       "Name: p9_3, dtype: int64"
      ]
     },
     "execution_count": 134,
     "metadata": {},
     "output_type": "execute_result"
    }
   ],
   "source": [
    "t1_ENOE['p9_3'].value_counts()#Construir o ampliar su vivienda? (Aplica de 2008 a 2012) /  realizar compras, llevar cuentas o realizar trámites para el hogar o encargarse de la seguridad (como guardar el automóvil)? (Aplica a partir del 2013)\n",
    "#3-si 9-no aplica"
   ]
  },
  {
   "cell_type": "code",
   "execution_count": 135,
   "metadata": {},
   "outputs": [
    {
     "data": {
      "text/plain": [
       "9     756674\n",
       "2     164395\n",
       "1      93108\n",
       "3      88752\n",
       "4      45371\n",
       "5      33595\n",
       "7      19363\n",
       "6      19073\n",
       "10      9509\n",
       "0       8545\n",
       "8       5358\n",
       "14      3082\n",
       "12      1912\n",
       "98      1512\n",
       "15       601\n",
       "16       457\n",
       "21       437\n",
       "20       411\n",
       "11       341\n",
       "18       189\n",
       "17       146\n",
       "28        84\n",
       "30        65\n",
       "19        51\n",
       "25        50\n",
       "13        48\n",
       "35        47\n",
       "24        38\n",
       "22        28\n",
       "40        24\n",
       "       ...  \n",
       "26         9\n",
       "32         8\n",
       "60         8\n",
       "56         7\n",
       "36         6\n",
       "27         6\n",
       "48         5\n",
       "38         5\n",
       "70         4\n",
       "31         4\n",
       "61         3\n",
       "33         3\n",
       "72         3\n",
       "29         2\n",
       "90         2\n",
       "34         2\n",
       "62         2\n",
       "45         2\n",
       "54         2\n",
       "39         2\n",
       "57         1\n",
       "37         1\n",
       "43         1\n",
       "55         1\n",
       "65         1\n",
       "66         1\n",
       "53         1\n",
       "74         1\n",
       "75         1\n",
       "52         1\n",
       "Name: p9_h3, Length: 64, dtype: int64"
      ]
     },
     "execution_count": 135,
     "metadata": {},
     "output_type": "execute_result"
    }
   ],
   "source": [
    "t1_ENOE['p9_h3'].value_counts()\n",
    "#00-97 Número de horas dedicadas a realizar la actividad\n",
    "#98 Realizó la actividad pero no sabe cuanto tiempo \n",
    "#9 No sabe si realizó la actividad"
   ]
  },
  {
   "cell_type": "code",
   "execution_count": 136,
   "metadata": {},
   "outputs": [
    {
     "data": {
      "text/plain": [
       "9     754799\n",
       "0     467590\n",
       "30     26023\n",
       "20      1465\n",
       "40       741\n",
       "45       657\n",
       "15       586\n",
       "10       431\n",
       "25       275\n",
       "50       216\n",
       "35       193\n",
       "7        169\n",
       "4         49\n",
       "3         45\n",
       "5         41\n",
       "2         31\n",
       "1         28\n",
       "6         24\n",
       "55         9\n",
       "33         9\n",
       "36         8\n",
       "11         4\n",
       "22         3\n",
       "23         2\n",
       "32         2\n",
       "38         2\n",
       "14         2\n",
       "8          2\n",
       "43         1\n",
       "39         1\n",
       "34         1\n",
       "54         1\n",
       "28         1\n",
       "27         1\n",
       "16         1\n",
       "17         1\n",
       "18         1\n",
       "24         1\n",
       "31         1\n",
       "Name: p9_m3, dtype: int64"
      ]
     },
     "execution_count": 136,
     "metadata": {},
     "output_type": "execute_result"
    }
   ],
   "source": [
    "t1_ENOE['p9_m3'].value_counts()\n",
    "#00-59 Número de minutos dedicados a realizar la actividad\n",
    "#9 No aplica"
   ]
  },
  {
   "cell_type": "code",
   "execution_count": 137,
   "metadata": {},
   "outputs": [
    {
     "data": {
      "text/plain": [
       "9    1155474\n",
       "4      97943\n",
       "Name: p9_4, dtype: int64"
      ]
     },
     "execution_count": 137,
     "metadata": {},
     "output_type": "execute_result"
    }
   ],
   "source": [
    "t1_ENOE['p9_4'].value_counts()#reparar o dar mantenimiento a su vivienda, muebles, aparatos electrodomésticos o vehículos? (Aplica del 2008 a 2012) / llevar a algún miembro del hogar a la escuela, cita médica u otra actividad? (Aplica a partir del 2013)\n",
    "#4-si 9-no aplica"
   ]
  },
  {
   "cell_type": "code",
   "execution_count": 138,
   "metadata": {},
   "outputs": [
    {
     "data": {
      "text/plain": [
       "9     1155784\n",
       "2       23837\n",
       "5       18967\n",
       "1       15828\n",
       "3       14549\n",
       "4        8228\n",
       "6        4039\n",
       "10       3451\n",
       "0        2721\n",
       "7        2686\n",
       "8        1330\n",
       "14        380\n",
       "15        369\n",
       "12        325\n",
       "98        235\n",
       "20        168\n",
       "11        110\n",
       "21         87\n",
       "30         47\n",
       "18         35\n",
       "25         34\n",
       "16         33\n",
       "24         31\n",
       "28         23\n",
       "50         20\n",
       "13         16\n",
       "40         13\n",
       "35         11\n",
       "42          9\n",
       "48          6\n",
       "44          5\n",
       "32          4\n",
       "99          4\n",
       "23          3\n",
       "70          3\n",
       "17          3\n",
       "36          3\n",
       "22          2\n",
       "45          2\n",
       "60          2\n",
       "19          2\n",
       "80          2\n",
       "26          2\n",
       "34          1\n",
       "33          1\n",
       "38          1\n",
       "27          1\n",
       "56          1\n",
       "71          1\n",
       "72          1\n",
       "96          1\n",
       "Name: p9_h4, dtype: int64"
      ]
     },
     "execution_count": 138,
     "metadata": {},
     "output_type": "execute_result"
    }
   ],
   "source": [
    "t1_ENOE['p9_h4'].value_counts()\n",
    "#00-97 Número de horas dedicadas a llevar a cabo la actividad\n",
    "#98 Realizó la actividad pero no sabe cuanto tiempo \n",
    "#9 No sabe si realizó la actividad"
   ]
  },
  {
   "cell_type": "code",
   "execution_count": 139,
   "metadata": {},
   "outputs": [
    {
     "data": {
      "text/plain": [
       "9     1155475\n",
       "0       84213\n",
       "30      10381\n",
       "40        816\n",
       "20        649\n",
       "15        624\n",
       "50        586\n",
       "45        181\n",
       "10        163\n",
       "25        124\n",
       "7          52\n",
       "5          29\n",
       "3          19\n",
       "2          19\n",
       "35         13\n",
       "1          11\n",
       "6           9\n",
       "4           7\n",
       "33          7\n",
       "14          5\n",
       "36          5\n",
       "44          4\n",
       "8           3\n",
       "56          3\n",
       "13          2\n",
       "12          2\n",
       "22          2\n",
       "32          2\n",
       "37          2\n",
       "11          1\n",
       "18          1\n",
       "55          1\n",
       "21          1\n",
       "26          1\n",
       "27          1\n",
       "28          1\n",
       "46          1\n",
       "16          1\n",
       "Name: p9_m4, dtype: int64"
      ]
     },
     "execution_count": 139,
     "metadata": {},
     "output_type": "execute_result"
    }
   ],
   "source": [
    "t1_ENOE['p9_m4'].value_counts()\n",
    "#00-59 Número de minutos dedicados a llevar a cabo la actividad\n",
    "#9 No aplica"
   ]
  },
  {
   "cell_type": "code",
   "execution_count": 140,
   "metadata": {},
   "outputs": [
    {
     "data": {
      "text/plain": [
       "9    1251408\n",
       "5       2009\n",
       "Name: p9_5, dtype: int64"
      ]
     },
     "execution_count": 140,
     "metadata": {},
     "output_type": "execute_result"
    }
   ],
   "source": [
    "t1_ENOE['p9_5'].value_counts()#realizar los quehaceres de su hogar? (Aplica del 2008 a 2012) /  construir o ampliar su vivienda? (Aplica a partir del 2013)\n",
    "#5-si 9-no aplica"
   ]
  },
  {
   "cell_type": "code",
   "execution_count": 141,
   "metadata": {},
   "outputs": [
    {
     "data": {
      "text/plain": [
       "9     1251439\n",
       "2         222\n",
       "3         201\n",
       "4         173\n",
       "6         169\n",
       "10        163\n",
       "5         144\n",
       "8         121\n",
       "1         118\n",
       "14         78\n",
       "7          72\n",
       "12         57\n",
       "20         50\n",
       "21         45\n",
       "15         40\n",
       "40         36\n",
       "30         31\n",
       "28         29\n",
       "16         29\n",
       "35         29\n",
       "0          27\n",
       "18         24\n",
       "24         24\n",
       "25         21\n",
       "48          8\n",
       "60          7\n",
       "98          7\n",
       "26          6\n",
       "36          6\n",
       "22          5\n",
       "42          5\n",
       "55          3\n",
       "50          3\n",
       "45          3\n",
       "32          3\n",
       "19          3\n",
       "44          2\n",
       "56          2\n",
       "72          2\n",
       "38          1\n",
       "17          1\n",
       "11          1\n",
       "29          1\n",
       "46          1\n",
       "49          1\n",
       "70          1\n",
       "71          1\n",
       "78          1\n",
       "99          1\n",
       "Name: p9_h5, dtype: int64"
      ]
     },
     "execution_count": 141,
     "metadata": {},
     "output_type": "execute_result"
    }
   ],
   "source": [
    "t1_ENOE['p9_h5'].value_counts()\n",
    "#00-97 Número de horas dedicadas a construir\n",
    "#98 Realizó la actividad pero no sabe cuanto tiempo \n",
    "#9 No sabe si realizó la actividad"
   ]
  },
  {
   "cell_type": "code",
   "execution_count": 142,
   "metadata": {},
   "outputs": [
    {
     "data": {
      "text/plain": [
       "9     1251408\n",
       "0        1956\n",
       "30         31\n",
       "20          9\n",
       "15          2\n",
       "10          2\n",
       "6           2\n",
       "1           2\n",
       "55          1\n",
       "40          1\n",
       "32          1\n",
       "13          1\n",
       "7           1\n",
       "Name: p9_m5, dtype: int64"
      ]
     },
     "execution_count": 142,
     "metadata": {},
     "output_type": "execute_result"
    }
   ],
   "source": [
    "t1_ENOE['p9_m5'].value_counts()\n",
    "#00-59 Número de minutos dedicados a construir\n",
    "#9 No aplica"
   ]
  },
  {
   "cell_type": "code",
   "execution_count": 143,
   "metadata": {},
   "outputs": [
    {
     "data": {
      "text/plain": [
       "9    1205264\n",
       "6      48153\n",
       "Name: p9_6, dtype: int64"
      ]
     },
     "execution_count": 143,
     "metadata": {},
     "output_type": "execute_result"
    }
   ],
   "source": [
    "t1_ENOE['p9_6'].value_counts()#prestar servicios gratuitos a su comunidad? (Aplica del 2008 a 2012) / reparar o dar mantenimiento a su vivienda, mue- bles, aparatos electrodomésticos o vehículos? (Aplica a partir del 2013)\n",
    "#6-si 9-no aplica"
   ]
  },
  {
   "cell_type": "code",
   "execution_count": 144,
   "metadata": {},
   "outputs": [
    {
     "data": {
      "text/plain": [
       "9     1205578\n",
       "2       12269\n",
       "1        8956\n",
       "3        6508\n",
       "4        4783\n",
       "6        3285\n",
       "5        3242\n",
       "10       1870\n",
       "7        1826\n",
       "8        1500\n",
       "0        1290\n",
       "12        488\n",
       "14        410\n",
       "15        279\n",
       "98        203\n",
       "20        186\n",
       "21        142\n",
       "18         92\n",
       "16         90\n",
       "28         84\n",
       "30         58\n",
       "25         49\n",
       "24         48\n",
       "40         36\n",
       "35         29\n",
       "13         14\n",
       "11         12\n",
       "48         11\n",
       "42          9\n",
       "36          8\n",
       "26          7\n",
       "56          7\n",
       "50          7\n",
       "32          6\n",
       "23          5\n",
       "19          5\n",
       "99          4\n",
       "17          3\n",
       "34          3\n",
       "22          3\n",
       "45          2\n",
       "47          2\n",
       "38          2\n",
       "27          1\n",
       "37          1\n",
       "44          1\n",
       "29          1\n",
       "60          1\n",
       "70          1\n",
       "Name: p9_h6, dtype: int64"
      ]
     },
     "execution_count": 144,
     "metadata": {},
     "output_type": "execute_result"
    }
   ],
   "source": [
    "t1_ENOE['p9_h6'].value_counts()\n",
    "#00-97 Número de horas dedicadas a reparar\n",
    "#98 Realizó la actividad pero no sabe cuanto tiempo \n",
    "#9 No sabe si realizó la actividad"
   ]
  },
  {
   "cell_type": "code",
   "execution_count": 145,
   "metadata": {},
   "outputs": [
    {
     "data": {
      "text/plain": [
       "9     1205264\n",
       "0       45777\n",
       "30       2062\n",
       "20         85\n",
       "15         58\n",
       "40         55\n",
       "10         30\n",
       "7          30\n",
       "45         20\n",
       "50         10\n",
       "5           9\n",
       "35          5\n",
       "3           4\n",
       "25          3\n",
       "33          1\n",
       "37          1\n",
       "6           1\n",
       "2           1\n",
       "1           1\n",
       "Name: p9_m6, dtype: int64"
      ]
     },
     "execution_count": 145,
     "metadata": {},
     "output_type": "execute_result"
    }
   ],
   "source": [
    "t1_ENOE['p9_m6'].value_counts()\n",
    "#00-59 Número de minutos dedicados a reparar\n",
    "#9 No aplica"
   ]
  },
  {
   "cell_type": "code",
   "execution_count": 146,
   "metadata": {},
   "outputs": [
    {
     "data": {
      "text/plain": [
       "7    745375\n",
       "9    508042\n",
       "Name: p9_7, dtype: int64"
      ]
     },
     "execution_count": 146,
     "metadata": {},
     "output_type": "execute_result"
    }
   ],
   "source": [
    "t1_ENOE['p9_7'].value_counts()#realizar quehaceres de su hogar? (Solo aplica a partir del 2013)\n",
    "#7-si 9-no aplica"
   ]
  },
  {
   "cell_type": "code",
   "execution_count": 147,
   "metadata": {},
   "outputs": [
    {
     "data": {
      "text/plain": [
       "9     514688\n",
       "7      85024\n",
       "14     66211\n",
       "21     58148\n",
       "2      55254\n",
       "28     45108\n",
       "10     44999\n",
       "3      40546\n",
       "5      30387\n",
       "1      29450\n",
       "35     29435\n",
       "4      26132\n",
       "20     24357\n",
       "6      22946\n",
       "30     19909\n",
       "12     15239\n",
       "18     13342\n",
       "15     13138\n",
       "8      12286\n",
       "42     12255\n",
       "25     11100\n",
       "40      8169\n",
       "16      8033\n",
       "36      6834\n",
       "24      6182\n",
       "32      5677\n",
       "56      5436\n",
       "26      4779\n",
       "22      3748\n",
       "38      3521\n",
       "       ...  \n",
       "72        46\n",
       "84        38\n",
       "99        26\n",
       "64        17\n",
       "62        15\n",
       "80        13\n",
       "74        13\n",
       "65        12\n",
       "53        11\n",
       "59         8\n",
       "57         8\n",
       "66         6\n",
       "51         6\n",
       "61         5\n",
       "73         4\n",
       "82         3\n",
       "75         3\n",
       "71         3\n",
       "68         3\n",
       "67         3\n",
       "96         2\n",
       "97         2\n",
       "76         1\n",
       "77         1\n",
       "83         1\n",
       "85         1\n",
       "90         1\n",
       "91         1\n",
       "95         1\n",
       "69         1\n",
       "Name: p9_h7, Length: 90, dtype: int64"
      ]
     },
     "execution_count": 147,
     "metadata": {},
     "output_type": "execute_result"
    }
   ],
   "source": [
    "t1_ENOE['p9_h7'].value_counts()\n",
    "#00-97 Número de horas dedicadas a los quehaceres\n",
    "#98 Realizó la actividad pero no sabe cuanto tiempo \n",
    "#9 No sabe si realizó la actividad"
   ]
  },
  {
   "cell_type": "code",
   "execution_count": 148,
   "metadata": {},
   "outputs": [
    {
     "data": {
      "text/plain": [
       "0     730798\n",
       "9     508044\n",
       "30     13501\n",
       "20       329\n",
       "10       150\n",
       "45       132\n",
       "15       111\n",
       "40       110\n",
       "1         57\n",
       "50        51\n",
       "35        23\n",
       "33        22\n",
       "25        20\n",
       "2         16\n",
       "3         11\n",
       "8          9\n",
       "5          5\n",
       "4          4\n",
       "6          4\n",
       "36         4\n",
       "11         3\n",
       "22         3\n",
       "7          2\n",
       "14         2\n",
       "12         1\n",
       "16         1\n",
       "19         1\n",
       "23         1\n",
       "24         1\n",
       "28         1\n",
       "Name: p9_m7, dtype: int64"
      ]
     },
     "execution_count": 148,
     "metadata": {},
     "output_type": "execute_result"
    }
   ],
   "source": [
    "t1_ENOE['p9_m7'].value_counts()\n",
    "#00-59 Número de minutos dedicados a los quehaceres\n",
    "#9 No aplica"
   ]
  },
  {
   "cell_type": "code",
   "execution_count": 149,
   "metadata": {},
   "outputs": [
    {
     "data": {
      "text/plain": [
       "9    1243336\n",
       "8      10081\n",
       "Name: p9_8, dtype: int64"
      ]
     },
     "execution_count": 149,
     "metadata": {},
     "output_type": "execute_result"
    }
   ],
   "source": [
    "t1_ENOE['p9_8'].value_counts()#prestar servicios gratuitos a su comunidad? (Solo aplica a partir del 2013)\n",
    "#8-si 9-no aplica"
   ]
  },
  {
   "cell_type": "code",
   "execution_count": 150,
   "metadata": {},
   "outputs": [
    {
     "data": {
      "text/plain": [
       "9     1243440\n",
       "2        2062\n",
       "1        1512\n",
       "3        1363\n",
       "4         924\n",
       "6         613\n",
       "5         525\n",
       "10        521\n",
       "8         458\n",
       "7         288\n",
       "0         239\n",
       "12        198\n",
       "20        185\n",
       "15        163\n",
       "14        141\n",
       "21        108\n",
       "30         79\n",
       "98         74\n",
       "28         70\n",
       "18         66\n",
       "16         56\n",
       "25         52\n",
       "40         49\n",
       "24         38\n",
       "35         35\n",
       "42         20\n",
       "36         15\n",
       "56         15\n",
       "11         15\n",
       "48         11\n",
       "22          9\n",
       "32          8\n",
       "70          7\n",
       "50          7\n",
       "45          6\n",
       "17          5\n",
       "99          4\n",
       "38          4\n",
       "60          4\n",
       "19          3\n",
       "58          3\n",
       "26          3\n",
       "31          2\n",
       "33          2\n",
       "13          2\n",
       "49          2\n",
       "88          1\n",
       "81          1\n",
       "80          1\n",
       "72          1\n",
       "51          1\n",
       "55          1\n",
       "54          1\n",
       "46          1\n",
       "41          1\n",
       "27          1\n",
       "29          1\n",
       "Name: p9_h8, dtype: int64"
      ]
     },
     "execution_count": 150,
     "metadata": {},
     "output_type": "execute_result"
    }
   ],
   "source": [
    "t1_ENOE['p9_h8'].value_counts()\n",
    "#00-97 Número de horas dedicadas a servicios\n",
    "#98 Realizó la actividad pero no sabe cuanto tiempo \n",
    "#9 No sabe si realizó la actividad"
   ]
  },
  {
   "cell_type": "code",
   "execution_count": 151,
   "metadata": {},
   "outputs": [
    {
     "data": {
      "text/plain": [
       "9     1243336\n",
       "0        9520\n",
       "30        491\n",
       "20         26\n",
       "40         16\n",
       "15         14\n",
       "45          5\n",
       "5           2\n",
       "3           2\n",
       "50          1\n",
       "25          1\n",
       "13          1\n",
       "10          1\n",
       "2           1\n",
       "Name: p9_m8, dtype: int64"
      ]
     },
     "execution_count": 151,
     "metadata": {},
     "output_type": "execute_result"
    }
   ],
   "source": [
    "t1_ENOE['p9_m8'].value_counts()\n",
    "#00-59 Número de minutos dedicados a servicios\n",
    "#9 No aplica"
   ]
  },
  {
   "cell_type": "markdown",
   "metadata": {},
   "source": [
    "# Columnas adicionales"
   ]
  },
  {
   "cell_type": "code",
   "execution_count": 152,
   "metadata": {},
   "outputs": [
    {
     "data": {
      "text/plain": [
       "414    314099\n",
       "214    313830\n",
       "314    313818\n",
       "114    311670\n",
       "Name: per, dtype: int64"
      ]
     },
     "execution_count": 152,
     "metadata": {},
     "output_type": "execute_result"
    }
   ],
   "source": [
    "t1_ENOE['per'].value_counts()#Periodo\n",
    "#Primer dígito Trimestre de año \n",
    "#1 Enero-Marzo\n",
    "#2 Abril-Junio \n",
    "#3 Julio-Septiembre\n",
    "#4 Octubre-Diciembre\n",
    "\n",
    "#Segundo y tercer dígito\n",
    "#05-99 Año en curso"
   ]
  },
  {
   "cell_type": "code",
   "execution_count": 153,
   "metadata": {},
   "outputs": [
    {
     "data": {
      "text/plain": [
       "1    756636\n",
       "2    496781\n",
       "Name: ur, dtype: int64"
      ]
     },
     "execution_count": 153,
     "metadata": {},
     "output_type": "execute_result"
    }
   ],
   "source": [
    "t1_ENOE['ur'].value_counts() # 1,2 Campo exclusivo de proceso"
   ]
  },
  {
   "cell_type": "code",
   "execution_count": 154,
   "metadata": {},
   "outputs": [
    {
     "data": {
      "text/plain": [
       "1     191936\n",
       "2     191399\n",
       "4     190093\n",
       "5     189293\n",
       "3     189024\n",
       "7      20442\n",
       "15     20411\n",
       "6      20321\n",
       "13     20182\n",
       "9      20163\n",
       "17     20106\n",
       "16     20065\n",
       "18     20049\n",
       "12     20033\n",
       "8      19914\n",
       "11     19880\n",
       "10     19823\n",
       "14     19721\n",
       "19     19505\n",
       "20     18834\n",
       "21      1646\n",
       "22       446\n",
       "23        94\n",
       "24        22\n",
       "26         9\n",
       "25         6\n",
       "Name: v_sel, dtype: int64"
      ]
     },
     "execution_count": 154,
     "metadata": {},
     "output_type": "execute_result"
    }
   ],
   "source": [
    "t1_ENOE['v_sel'].value_counts() # 01-99 Número de Vivienda seleccionada "
   ]
  },
  {
   "cell_type": "code",
   "execution_count": 155,
   "metadata": {},
   "outputs": [],
   "source": [
    "t1_ENOE.drop('con',axis = 1,inplace = True)"
   ]
  },
  {
   "cell_type": "code",
   "execution_count": 156,
   "metadata": {},
   "outputs": [],
   "source": [
    "t1_ENOE.drop('upm',axis = 1,inplace = True)"
   ]
  },
  {
   "cell_type": "code",
   "execution_count": 157,
   "metadata": {},
   "outputs": [],
   "source": [
    "t1_ENOE.drop('p9_7',axis = 1,inplace = True)"
   ]
  },
  {
   "cell_type": "code",
   "execution_count": 158,
   "metadata": {},
   "outputs": [],
   "source": [
    "t1_ENOE.drop('p9_h7',axis = 1,inplace = True)"
   ]
  },
  {
   "cell_type": "code",
   "execution_count": 159,
   "metadata": {},
   "outputs": [],
   "source": [
    "t1_ENOE.drop('p9_m7',axis = 1,inplace = True)"
   ]
  },
  {
   "cell_type": "code",
   "execution_count": 160,
   "metadata": {},
   "outputs": [],
   "source": [
    "t1_ENOE.drop('p9_8',axis = 1,inplace = True)"
   ]
  },
  {
   "cell_type": "code",
   "execution_count": 161,
   "metadata": {},
   "outputs": [],
   "source": [
    "t1_ENOE.drop('p9_h8',axis = 1,inplace = True)"
   ]
  },
  {
   "cell_type": "code",
   "execution_count": 162,
   "metadata": {},
   "outputs": [],
   "source": [
    "t1_ENOE.drop('p9_m8',axis = 1,inplace = True)"
   ]
  }
 ],
 "metadata": {
  "anaconda-cloud": {},
  "kernelspec": {
   "display_name": "Python 3",
   "language": "python",
   "name": "python3"
  },
  "language_info": {
   "codemirror_mode": {
    "name": "ipython",
    "version": 3
   },
   "file_extension": ".py",
   "mimetype": "text/x-python",
   "name": "python",
   "nbconvert_exporter": "python",
   "pygments_lexer": "ipython3",
   "version": "3.6.5"
  }
 },
 "nbformat": 4,
 "nbformat_minor": 1
}
